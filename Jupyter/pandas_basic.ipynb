{
 "cells": [
  {
   "cell_type": "code",
   "execution_count": 2,
   "metadata": {},
   "outputs": [],
   "source": [
    "import pandas as pd"
   ]
  },
  {
   "cell_type": "code",
   "execution_count": 3,
   "metadata": {},
   "outputs": [
    {
     "name": "stderr",
     "output_type": "stream",
     "text": [
      "<>:1: SyntaxWarning: invalid escape sequence '\\C'\n",
      "<>:1: SyntaxWarning: invalid escape sequence '\\C'\n",
      "C:\\Users\\POOJA\\AppData\\Local\\Temp\\ipykernel_17424\\2575122480.py:1: SyntaxWarning: invalid escape sequence '\\C'\n",
      "  df=pd.read_csv(\"C:\\Codding\\Jupyter\\CSV\\JEE_Rank_2016_2024.csv\")\n"
     ]
    }
   ],
   "source": [
    "df=pd.read_csv(\"C:\\Codding\\Jupyter\\CSV\\JEE_Rank_2016_2024.csv\")"
   ]
  },
  {
   "cell_type": "code",
   "execution_count": 4,
   "metadata": {},
   "outputs": [
    {
     "data": {
      "text/html": [
       "<div>\n",
       "<style scoped>\n",
       "    .dataframe tbody tr th:only-of-type {\n",
       "        vertical-align: middle;\n",
       "    }\n",
       "\n",
       "    .dataframe tbody tr th {\n",
       "        vertical-align: top;\n",
       "    }\n",
       "\n",
       "    .dataframe thead th {\n",
       "        text-align: right;\n",
       "    }\n",
       "</style>\n",
       "<table border=\"1\" class=\"dataframe\">\n",
       "  <thead>\n",
       "    <tr style=\"text-align: right;\">\n",
       "      <th></th>\n",
       "      <th>Institute</th>\n",
       "      <th>Quota</th>\n",
       "      <th>Gender</th>\n",
       "      <th>Year</th>\n",
       "      <th>Academic_Program_Name</th>\n",
       "      <th>Closing_Rank</th>\n",
       "      <th>Opening_Rank</th>\n",
       "      <th>Seat_Type</th>\n",
       "    </tr>\n",
       "  </thead>\n",
       "  <tbody>\n",
       "    <tr>\n",
       "      <th>0</th>\n",
       "      <td>Indian Institute of Technology Bhubaneswar</td>\n",
       "      <td>AI</td>\n",
       "      <td>Gender-Neutral</td>\n",
       "      <td>2016</td>\n",
       "      <td>Mechanical Engineering (4 Years, Bachelor of T...</td>\n",
       "      <td>651</td>\n",
       "      <td>583</td>\n",
       "      <td>ST</td>\n",
       "    </tr>\n",
       "    <tr>\n",
       "      <th>1</th>\n",
       "      <td>Indian Institute of Technology Bombay</td>\n",
       "      <td>AI</td>\n",
       "      <td>Gender-Neutral</td>\n",
       "      <td>2016</td>\n",
       "      <td>Civil Engineering (4 Years, Bachelor of Techno...</td>\n",
       "      <td>21</td>\n",
       "      <td>21</td>\n",
       "      <td>OBC-NCL (PwD)</td>\n",
       "    </tr>\n",
       "    <tr>\n",
       "      <th>2</th>\n",
       "      <td>Indian Institute of Technology Bombay</td>\n",
       "      <td>AI</td>\n",
       "      <td>Gender-Neutral</td>\n",
       "      <td>2016</td>\n",
       "      <td>Computer Science and Engineering (4 Years, Bac...</td>\n",
       "      <td>60</td>\n",
       "      <td>1</td>\n",
       "      <td>OPEN</td>\n",
       "    </tr>\n",
       "    <tr>\n",
       "      <th>3</th>\n",
       "      <td>Indian Institute of Technology Bombay</td>\n",
       "      <td>AI</td>\n",
       "      <td>Gender-Neutral</td>\n",
       "      <td>2016</td>\n",
       "      <td>Energy Engineering with M.Tech. in Energy Syst...</td>\n",
       "      <td>848</td>\n",
       "      <td>338</td>\n",
       "      <td>SC</td>\n",
       "    </tr>\n",
       "    <tr>\n",
       "      <th>4</th>\n",
       "      <td>Indian Institute of Technology Bombay</td>\n",
       "      <td>AI</td>\n",
       "      <td>Gender-Neutral</td>\n",
       "      <td>2016</td>\n",
       "      <td>Metallurgical Engineering and Materials Scienc...</td>\n",
       "      <td>2971</td>\n",
       "      <td>1657</td>\n",
       "      <td>OPEN</td>\n",
       "    </tr>\n",
       "  </tbody>\n",
       "</table>\n",
       "</div>"
      ],
      "text/plain": [
       "                                    Institute Quota          Gender  Year  \\\n",
       "0  Indian Institute of Technology Bhubaneswar    AI  Gender-Neutral  2016   \n",
       "1       Indian Institute of Technology Bombay    AI  Gender-Neutral  2016   \n",
       "2       Indian Institute of Technology Bombay    AI  Gender-Neutral  2016   \n",
       "3       Indian Institute of Technology Bombay    AI  Gender-Neutral  2016   \n",
       "4       Indian Institute of Technology Bombay    AI  Gender-Neutral  2016   \n",
       "\n",
       "                               Academic_Program_Name Closing_Rank  \\\n",
       "0  Mechanical Engineering (4 Years, Bachelor of T...          651   \n",
       "1  Civil Engineering (4 Years, Bachelor of Techno...           21   \n",
       "2  Computer Science and Engineering (4 Years, Bac...           60   \n",
       "3  Energy Engineering with M.Tech. in Energy Syst...          848   \n",
       "4  Metallurgical Engineering and Materials Scienc...         2971   \n",
       "\n",
       "  Opening_Rank      Seat_Type  \n",
       "0          583             ST  \n",
       "1           21  OBC-NCL (PwD)  \n",
       "2            1           OPEN  \n",
       "3          338             SC  \n",
       "4         1657           OPEN  "
      ]
     },
     "execution_count": 4,
     "metadata": {},
     "output_type": "execute_result"
    }
   ],
   "source": [
    "df.head()"
   ]
  },
  {
   "cell_type": "code",
   "execution_count": 5,
   "metadata": {},
   "outputs": [
    {
     "data": {
      "text/plain": [
       "(20834, 8)"
      ]
     },
     "execution_count": 5,
     "metadata": {},
     "output_type": "execute_result"
    }
   ],
   "source": [
    "df.shape"
   ]
  },
  {
   "cell_type": "code",
   "execution_count": 6,
   "metadata": {},
   "outputs": [
    {
     "name": "stdout",
     "output_type": "stream",
     "text": [
      "<class 'pandas.core.frame.DataFrame'>\n",
      "RangeIndex: 20834 entries, 0 to 20833\n",
      "Data columns (total 8 columns):\n",
      " #   Column                 Non-Null Count  Dtype \n",
      "---  ------                 --------------  ----- \n",
      " 0   Institute              20833 non-null  object\n",
      " 1   Quota                  20833 non-null  object\n",
      " 2   Gender                 20833 non-null  object\n",
      " 3   Year                   20834 non-null  int64 \n",
      " 4   Academic_Program_Name  20833 non-null  object\n",
      " 5   Closing_Rank           20833 non-null  object\n",
      " 6   Opening_Rank           20833 non-null  object\n",
      " 7   Seat_Type              20833 non-null  object\n",
      "dtypes: int64(1), object(7)\n",
      "memory usage: 1.3+ MB\n"
     ]
    }
   ],
   "source": [
    "df.info()"
   ]
  },
  {
   "cell_type": "code",
   "execution_count": 7,
   "metadata": {},
   "outputs": [],
   "source": [
    "df = df.iloc[:,1:]"
   ]
  },
  {
   "cell_type": "code",
   "execution_count": 8,
   "metadata": {},
   "outputs": [
    {
     "data": {
      "text/html": [
       "<div>\n",
       "<style scoped>\n",
       "    .dataframe tbody tr th:only-of-type {\n",
       "        vertical-align: middle;\n",
       "    }\n",
       "\n",
       "    .dataframe tbody tr th {\n",
       "        vertical-align: top;\n",
       "    }\n",
       "\n",
       "    .dataframe thead th {\n",
       "        text-align: right;\n",
       "    }\n",
       "</style>\n",
       "<table border=\"1\" class=\"dataframe\">\n",
       "  <thead>\n",
       "    <tr style=\"text-align: right;\">\n",
       "      <th></th>\n",
       "      <th>Quota</th>\n",
       "      <th>Gender</th>\n",
       "      <th>Year</th>\n",
       "      <th>Academic_Program_Name</th>\n",
       "      <th>Closing_Rank</th>\n",
       "      <th>Opening_Rank</th>\n",
       "      <th>Seat_Type</th>\n",
       "    </tr>\n",
       "  </thead>\n",
       "  <tbody>\n",
       "    <tr>\n",
       "      <th>0</th>\n",
       "      <td>AI</td>\n",
       "      <td>Gender-Neutral</td>\n",
       "      <td>2016</td>\n",
       "      <td>Mechanical Engineering (4 Years, Bachelor of T...</td>\n",
       "      <td>651</td>\n",
       "      <td>583</td>\n",
       "      <td>ST</td>\n",
       "    </tr>\n",
       "    <tr>\n",
       "      <th>1</th>\n",
       "      <td>AI</td>\n",
       "      <td>Gender-Neutral</td>\n",
       "      <td>2016</td>\n",
       "      <td>Civil Engineering (4 Years, Bachelor of Techno...</td>\n",
       "      <td>21</td>\n",
       "      <td>21</td>\n",
       "      <td>OBC-NCL (PwD)</td>\n",
       "    </tr>\n",
       "    <tr>\n",
       "      <th>2</th>\n",
       "      <td>AI</td>\n",
       "      <td>Gender-Neutral</td>\n",
       "      <td>2016</td>\n",
       "      <td>Computer Science and Engineering (4 Years, Bac...</td>\n",
       "      <td>60</td>\n",
       "      <td>1</td>\n",
       "      <td>OPEN</td>\n",
       "    </tr>\n",
       "    <tr>\n",
       "      <th>3</th>\n",
       "      <td>AI</td>\n",
       "      <td>Gender-Neutral</td>\n",
       "      <td>2016</td>\n",
       "      <td>Energy Engineering with M.Tech. in Energy Syst...</td>\n",
       "      <td>848</td>\n",
       "      <td>338</td>\n",
       "      <td>SC</td>\n",
       "    </tr>\n",
       "    <tr>\n",
       "      <th>4</th>\n",
       "      <td>AI</td>\n",
       "      <td>Gender-Neutral</td>\n",
       "      <td>2016</td>\n",
       "      <td>Metallurgical Engineering and Materials Scienc...</td>\n",
       "      <td>2971</td>\n",
       "      <td>1657</td>\n",
       "      <td>OPEN</td>\n",
       "    </tr>\n",
       "  </tbody>\n",
       "</table>\n",
       "</div>"
      ],
      "text/plain": [
       "  Quota          Gender  Year  \\\n",
       "0    AI  Gender-Neutral  2016   \n",
       "1    AI  Gender-Neutral  2016   \n",
       "2    AI  Gender-Neutral  2016   \n",
       "3    AI  Gender-Neutral  2016   \n",
       "4    AI  Gender-Neutral  2016   \n",
       "\n",
       "                               Academic_Program_Name Closing_Rank  \\\n",
       "0  Mechanical Engineering (4 Years, Bachelor of T...          651   \n",
       "1  Civil Engineering (4 Years, Bachelor of Techno...           21   \n",
       "2  Computer Science and Engineering (4 Years, Bac...           60   \n",
       "3  Energy Engineering with M.Tech. in Energy Syst...          848   \n",
       "4  Metallurgical Engineering and Materials Scienc...         2971   \n",
       "\n",
       "  Opening_Rank      Seat_Type  \n",
       "0          583             ST  \n",
       "1           21  OBC-NCL (PwD)  \n",
       "2            1           OPEN  \n",
       "3          338             SC  \n",
       "4         1657           OPEN  "
      ]
     },
     "execution_count": 8,
     "metadata": {},
     "output_type": "execute_result"
    }
   ],
   "source": [
    "df.head()"
   ]
  },
  {
   "cell_type": "code",
   "execution_count": 9,
   "metadata": {},
   "outputs": [
    {
     "data": {
      "text/plain": [
       "Index(['Quota', 'Gender', 'Year', 'Academic_Program_Name', 'Closing_Rank',\n",
       "       'Opening_Rank', 'Seat_Type'],\n",
       "      dtype='object')"
      ]
     },
     "execution_count": 9,
     "metadata": {},
     "output_type": "execute_result"
    }
   ],
   "source": [
    "df.columns"
   ]
  },
  {
   "cell_type": "code",
   "execution_count": 10,
   "metadata": {},
   "outputs": [
    {
     "data": {
      "text/html": [
       "<div>\n",
       "<style scoped>\n",
       "    .dataframe tbody tr th:only-of-type {\n",
       "        vertical-align: middle;\n",
       "    }\n",
       "\n",
       "    .dataframe tbody tr th {\n",
       "        vertical-align: top;\n",
       "    }\n",
       "\n",
       "    .dataframe thead th {\n",
       "        text-align: right;\n",
       "    }\n",
       "</style>\n",
       "<table border=\"1\" class=\"dataframe\">\n",
       "  <thead>\n",
       "    <tr style=\"text-align: right;\">\n",
       "      <th></th>\n",
       "      <th>Quota</th>\n",
       "      <th>Gender</th>\n",
       "      <th>Year</th>\n",
       "      <th>Academic_Program_Name</th>\n",
       "      <th>Closing_Rank</th>\n",
       "      <th>Opening_Rank</th>\n",
       "      <th>Seat_Type</th>\n",
       "    </tr>\n",
       "  </thead>\n",
       "  <tbody>\n",
       "    <tr>\n",
       "      <th>20829</th>\n",
       "      <td>AI</td>\n",
       "      <td>Female-only (including Supernumerary)</td>\n",
       "      <td>2024</td>\n",
       "      <td>Mechanical Engineering (4 Years, Bachelor of T...</td>\n",
       "      <td>9014</td>\n",
       "      <td>7628</td>\n",
       "      <td>OBC-NCL</td>\n",
       "    </tr>\n",
       "    <tr>\n",
       "      <th>20830</th>\n",
       "      <td>AI</td>\n",
       "      <td>Gender-Neutral</td>\n",
       "      <td>2024</td>\n",
       "      <td>Mechanical Engineering (4 Years, Bachelor of T...</td>\n",
       "      <td>2629</td>\n",
       "      <td>1327</td>\n",
       "      <td>SC</td>\n",
       "    </tr>\n",
       "    <tr>\n",
       "      <th>20831</th>\n",
       "      <td>AI</td>\n",
       "      <td>Female-only (including Supernumerary)</td>\n",
       "      <td>2024</td>\n",
       "      <td>Mechanical Engineering (4 Years, Bachelor of T...</td>\n",
       "      <td>4303</td>\n",
       "      <td>4302</td>\n",
       "      <td>SC</td>\n",
       "    </tr>\n",
       "    <tr>\n",
       "      <th>20832</th>\n",
       "      <td>AI</td>\n",
       "      <td>Gender-Neutral</td>\n",
       "      <td>2024</td>\n",
       "      <td>Mechanical Engineering (4 Years, Bachelor of T...</td>\n",
       "      <td>1213</td>\n",
       "      <td>664</td>\n",
       "      <td>ST</td>\n",
       "    </tr>\n",
       "    <tr>\n",
       "      <th>20833</th>\n",
       "      <td>AI</td>\n",
       "      <td>Female-only (including Supernumerary)</td>\n",
       "      <td>2024</td>\n",
       "      <td>Mechanical Engineering (4 Years, Bachelor of T...</td>\n",
       "      <td>1687</td>\n",
       "      <td>1687</td>\n",
       "      <td>ST</td>\n",
       "    </tr>\n",
       "  </tbody>\n",
       "</table>\n",
       "</div>"
      ],
      "text/plain": [
       "      Quota                                 Gender  Year  \\\n",
       "20829    AI  Female-only (including Supernumerary)  2024   \n",
       "20830    AI                         Gender-Neutral  2024   \n",
       "20831    AI  Female-only (including Supernumerary)  2024   \n",
       "20832    AI                         Gender-Neutral  2024   \n",
       "20833    AI  Female-only (including Supernumerary)  2024   \n",
       "\n",
       "                                   Academic_Program_Name Closing_Rank  \\\n",
       "20829  Mechanical Engineering (4 Years, Bachelor of T...         9014   \n",
       "20830  Mechanical Engineering (4 Years, Bachelor of T...         2629   \n",
       "20831  Mechanical Engineering (4 Years, Bachelor of T...         4303   \n",
       "20832  Mechanical Engineering (4 Years, Bachelor of T...         1213   \n",
       "20833  Mechanical Engineering (4 Years, Bachelor of T...         1687   \n",
       "\n",
       "      Opening_Rank Seat_Type  \n",
       "20829         7628   OBC-NCL  \n",
       "20830         1327        SC  \n",
       "20831         4302        SC  \n",
       "20832          664        ST  \n",
       "20833         1687        ST  "
      ]
     },
     "execution_count": 10,
     "metadata": {},
     "output_type": "execute_result"
    }
   ],
   "source": [
    "df.tail()"
   ]
  },
  {
   "cell_type": "code",
   "execution_count": 11,
   "metadata": {},
   "outputs": [
    {
     "data": {
      "text/plain": [
       "pandas.core.frame.DataFrame"
      ]
     },
     "execution_count": 11,
     "metadata": {},
     "output_type": "execute_result"
    }
   ],
   "source": [
    "type(df)"
   ]
  },
  {
   "cell_type": "code",
   "execution_count": 12,
   "metadata": {},
   "outputs": [
    {
     "data": {
      "text/plain": [
       "['Quota',\n",
       " 'Gender',\n",
       " 'Year',\n",
       " 'Academic_Program_Name',\n",
       " 'Closing_Rank',\n",
       " 'Opening_Rank',\n",
       " 'Seat_Type']"
      ]
     },
     "execution_count": 12,
     "metadata": {},
     "output_type": "execute_result"
    }
   ],
   "source": [
    "list(df.columns)"
   ]
  },
  {
   "cell_type": "code",
   "execution_count": 13,
   "metadata": {},
   "outputs": [
    {
     "data": {
      "text/plain": [
       "pandas.core.frame.DataFrame"
      ]
     },
     "execution_count": 13,
     "metadata": {},
     "output_type": "execute_result"
    }
   ],
   "source": [
    "type(df[['Quota','Gender','Year',]])"
   ]
  },
  {
   "cell_type": "code",
   "execution_count": 14,
   "metadata": {},
   "outputs": [
    {
     "data": {
      "text/plain": [
       "pandas.core.series.Series"
      ]
     },
     "execution_count": 14,
     "metadata": {},
     "output_type": "execute_result"
    }
   ],
   "source": [
    "type(df['Year'])"
   ]
  },
  {
   "cell_type": "code",
   "execution_count": 15,
   "metadata": {},
   "outputs": [
    {
     "data": {
      "text/plain": [
       "Quota                    object\n",
       "Gender                   object\n",
       "Year                      int64\n",
       "Academic_Program_Name    object\n",
       "Closing_Rank             object\n",
       "Opening_Rank             object\n",
       "Seat_Type                object\n",
       "dtype: object"
      ]
     },
     "execution_count": 15,
     "metadata": {},
     "output_type": "execute_result"
    }
   ],
   "source": [
    "df.dtypes"
   ]
  },
  {
   "cell_type": "code",
   "execution_count": 19,
   "metadata": {},
   "outputs": [
    {
     "name": "stderr",
     "output_type": "stream",
     "text": [
      "<>:1: SyntaxWarning: invalid escape sequence '\\C'\n",
      "<>:1: SyntaxWarning: invalid escape sequence '\\C'\n",
      "C:\\Users\\POOJA\\AppData\\Local\\Temp\\ipykernel_17424\\795081933.py:1: SyntaxWarning: invalid escape sequence '\\C'\n",
      "  df2=pd.read_excel(\"C:\\Codding\\Jupyter\\EXL\\Shiksha Academy.xlsx\")\n"
     ]
    }
   ],
   "source": [
    "df2=pd.read_excel(\"C:\\Codding\\Jupyter\\EXL\\Shiksha Academy.xlsx\")"
   ]
  },
  {
   "cell_type": "code",
   "execution_count": 21,
   "metadata": {},
   "outputs": [
    {
     "data": {
      "text/html": [
       "<div>\n",
       "<style scoped>\n",
       "    .dataframe tbody tr th:only-of-type {\n",
       "        vertical-align: middle;\n",
       "    }\n",
       "\n",
       "    .dataframe tbody tr th {\n",
       "        vertical-align: top;\n",
       "    }\n",
       "\n",
       "    .dataframe thead th {\n",
       "        text-align: right;\n",
       "    }\n",
       "</style>\n",
       "<table border=\"1\" class=\"dataframe\">\n",
       "  <thead>\n",
       "    <tr style=\"text-align: right;\">\n",
       "      <th></th>\n",
       "      <th>Student Detail(Shiksha Academy)</th>\n",
       "      <th>Unnamed: 1</th>\n",
       "      <th>Unnamed: 2</th>\n",
       "      <th>Unnamed: 3</th>\n",
       "      <th>Unnamed: 4</th>\n",
       "      <th>Unnamed: 5</th>\n",
       "      <th>Unnamed: 6</th>\n",
       "      <th>Unnamed: 7</th>\n",
       "      <th>Unnamed: 8</th>\n",
       "      <th>Unnamed: 9</th>\n",
       "      <th>Unnamed: 10</th>\n",
       "      <th>Unnamed: 11</th>\n",
       "      <th>Unnamed: 12</th>\n",
       "      <th>Unnamed: 13</th>\n",
       "    </tr>\n",
       "  </thead>\n",
       "  <tbody>\n",
       "    <tr>\n",
       "      <th>0</th>\n",
       "      <td>Sr.no</td>\n",
       "      <td>Student's Name</td>\n",
       "      <td>Father's Name</td>\n",
       "      <td>Mother's Name</td>\n",
       "      <td>Gender</td>\n",
       "      <td>Date Of Birth</td>\n",
       "      <td>Standard</td>\n",
       "      <td>School Name</td>\n",
       "      <td>Address</td>\n",
       "      <td>Contact Number</td>\n",
       "      <td>Admission date</td>\n",
       "      <td>Fees Date</td>\n",
       "      <td>Fees Amount</td>\n",
       "      <td>Last Date</td>\n",
       "    </tr>\n",
       "    <tr>\n",
       "      <th>1</th>\n",
       "      <td>1</td>\n",
       "      <td>Aastha Dhananjay Babar</td>\n",
       "      <td>Dhananjay Babar</td>\n",
       "      <td>Nilam Babar</td>\n",
       "      <td>Female</td>\n",
       "      <td>2015-04-22 00:00:00</td>\n",
       "      <td>3rd</td>\n",
       "      <td>Mother Teresa High School</td>\n",
       "      <td>407,Hiravati Palace, Road No-2,Near Fire briga...</td>\n",
       "      <td>9637191765 / 9224440112</td>\n",
       "      <td>2024-01-28 00:00:00</td>\n",
       "      <td>1</td>\n",
       "      <td>450</td>\n",
       "      <td>NaN</td>\n",
       "    </tr>\n",
       "    <tr>\n",
       "      <th>2</th>\n",
       "      <td>2</td>\n",
       "      <td>Taimur Hasan Uddin</td>\n",
       "      <td>Hasan Uddin</td>\n",
       "      <td>Tabbassum Uddin</td>\n",
       "      <td>Male</td>\n",
       "      <td>2018-09-29 00:00:00</td>\n",
       "      <td>1st</td>\n",
       "      <td>The Tree House High School</td>\n",
       "      <td>113,Hiravati Palace, Road No-2,Near Fire briga...</td>\n",
       "      <td>8827763739</td>\n",
       "      <td>2024-02-01 00:00:00</td>\n",
       "      <td>1</td>\n",
       "      <td>350</td>\n",
       "      <td>NaN</td>\n",
       "    </tr>\n",
       "    <tr>\n",
       "      <th>3</th>\n",
       "      <td>3</td>\n",
       "      <td>Tanmay Amol Chenage</td>\n",
       "      <td>Amol Chenage</td>\n",
       "      <td>Priyanka Chenage</td>\n",
       "      <td>Male</td>\n",
       "      <td>2014-12-19 00:00:00</td>\n",
       "      <td>3rd</td>\n",
       "      <td>Mother Teresa High School</td>\n",
       "      <td>010,Hiravati Palace, Road No-2,Near Fire briga...</td>\n",
       "      <td>7350119188</td>\n",
       "      <td>2024-02-01 00:00:00</td>\n",
       "      <td>1</td>\n",
       "      <td>450</td>\n",
       "      <td>NaN</td>\n",
       "    </tr>\n",
       "    <tr>\n",
       "      <th>4</th>\n",
       "      <td>4</td>\n",
       "      <td>Devansh Amol Chenage</td>\n",
       "      <td>Amol Chenage</td>\n",
       "      <td>Priyanka Chenage</td>\n",
       "      <td>Male</td>\n",
       "      <td>2018-08-03 00:00:00</td>\n",
       "      <td>Sr.Kg</td>\n",
       "      <td>Mother Marry High Scool</td>\n",
       "      <td>010,Hiravati Palace, Road No-2,Near Fire briga...</td>\n",
       "      <td>7350119188</td>\n",
       "      <td>2024-02-01 00:00:00</td>\n",
       "      <td>1</td>\n",
       "      <td>300</td>\n",
       "      <td>NaN</td>\n",
       "    </tr>\n",
       "  </tbody>\n",
       "</table>\n",
       "</div>"
      ],
      "text/plain": [
       "  Student Detail(Shiksha Academy)              Unnamed: 1       Unnamed: 2  \\\n",
       "0                           Sr.no          Student's Name    Father's Name   \n",
       "1                               1  Aastha Dhananjay Babar  Dhananjay Babar   \n",
       "2                               2      Taimur Hasan Uddin      Hasan Uddin   \n",
       "3                               3     Tanmay Amol Chenage     Amol Chenage   \n",
       "4                               4    Devansh Amol Chenage     Amol Chenage   \n",
       "\n",
       "         Unnamed: 3 Unnamed: 4           Unnamed: 5 Unnamed: 6  \\\n",
       "0     Mother's Name     Gender        Date Of Birth   Standard   \n",
       "1       Nilam Babar     Female  2015-04-22 00:00:00        3rd   \n",
       "2   Tabbassum Uddin       Male  2018-09-29 00:00:00        1st   \n",
       "3  Priyanka Chenage       Male  2014-12-19 00:00:00        3rd   \n",
       "4  Priyanka Chenage       Male  2018-08-03 00:00:00      Sr.Kg   \n",
       "\n",
       "                   Unnamed: 7  \\\n",
       "0                 School Name   \n",
       "1   Mother Teresa High School   \n",
       "2  The Tree House High School   \n",
       "3   Mother Teresa High School   \n",
       "4     Mother Marry High Scool   \n",
       "\n",
       "                                          Unnamed: 8               Unnamed: 9  \\\n",
       "0                                            Address           Contact Number   \n",
       "1  407,Hiravati Palace, Road No-2,Near Fire briga...  9637191765 / 9224440112   \n",
       "2  113,Hiravati Palace, Road No-2,Near Fire briga...               8827763739   \n",
       "3  010,Hiravati Palace, Road No-2,Near Fire briga...               7350119188   \n",
       "4  010,Hiravati Palace, Road No-2,Near Fire briga...               7350119188   \n",
       "\n",
       "           Unnamed: 10 Unnamed: 11  Unnamed: 12 Unnamed: 13  \n",
       "0       Admission date   Fees Date  Fees Amount   Last Date  \n",
       "1  2024-01-28 00:00:00           1          450         NaN  \n",
       "2  2024-02-01 00:00:00           1          350         NaN  \n",
       "3  2024-02-01 00:00:00           1          450         NaN  \n",
       "4  2024-02-01 00:00:00           1          300         NaN  "
      ]
     },
     "execution_count": 21,
     "metadata": {},
     "output_type": "execute_result"
    }
   ],
   "source": [
    "df2.head()"
   ]
  },
  {
   "cell_type": "code",
   "execution_count": 22,
   "metadata": {},
   "outputs": [
    {
     "data": {
      "text/plain": [
       "Index(['Student Detail(Shiksha Academy)', 'Unnamed: 1', 'Unnamed: 2',\n",
       "       'Unnamed: 3', 'Unnamed: 4', 'Unnamed: 5', 'Unnamed: 6', 'Unnamed: 7',\n",
       "       'Unnamed: 8', 'Unnamed: 9', 'Unnamed: 10', 'Unnamed: 11', 'Unnamed: 12',\n",
       "       'Unnamed: 13'],\n",
       "      dtype='object')"
      ]
     },
     "execution_count": 22,
     "metadata": {},
     "output_type": "execute_result"
    }
   ],
   "source": [
    "df2.columns"
   ]
  },
  {
   "cell_type": "code",
   "execution_count": 25,
   "metadata": {},
   "outputs": [
    {
     "data": {
      "text/plain": [
       "Student Detail(Shiksha Academy)    object\n",
       "Unnamed: 1                         object\n",
       "Unnamed: 2                         object\n",
       "Unnamed: 3                         object\n",
       "Unnamed: 4                         object\n",
       "Unnamed: 5                         object\n",
       "Unnamed: 6                         object\n",
       "Unnamed: 7                         object\n",
       "Unnamed: 8                         object\n",
       "Unnamed: 9                         object\n",
       "Unnamed: 10                        object\n",
       "Unnamed: 11                        object\n",
       "Unnamed: 12                        object\n",
       "Unnamed: 13                        object\n",
       "dtype: object"
      ]
     },
     "execution_count": 25,
     "metadata": {},
     "output_type": "execute_result"
    }
   ],
   "source": [
    "df2.dtypes"
   ]
  },
  {
   "cell_type": "code",
   "execution_count": 32,
   "metadata": {},
   "outputs": [],
   "source": [
    "df3=pd.read_html('https://byjus.com/social-science/states-and-capitals/')"
   ]
  },
  {
   "cell_type": "code",
   "execution_count": 33,
   "metadata": {},
   "outputs": [
    {
     "data": {
      "text/plain": [
       "list"
      ]
     },
     "execution_count": 33,
     "metadata": {},
     "output_type": "execute_result"
    }
   ],
   "source": [
    "type(df3)"
   ]
  },
  {
   "cell_type": "code",
   "execution_count": 34,
   "metadata": {},
   "outputs": [
    {
     "data": {
      "text/plain": [
       "3"
      ]
     },
     "execution_count": 34,
     "metadata": {},
     "output_type": "execute_result"
    }
   ],
   "source": [
    "len(df3)"
   ]
  },
  {
   "cell_type": "code",
   "execution_count": 37,
   "metadata": {},
   "outputs": [
    {
     "data": {
      "text/html": [
       "<div>\n",
       "<style scoped>\n",
       "    .dataframe tbody tr th:only-of-type {\n",
       "        vertical-align: middle;\n",
       "    }\n",
       "\n",
       "    .dataframe tbody tr th {\n",
       "        vertical-align: top;\n",
       "    }\n",
       "\n",
       "    .dataframe thead tr th {\n",
       "        text-align: left;\n",
       "    }\n",
       "</style>\n",
       "<table border=\"1\" class=\"dataframe\">\n",
       "  <thead>\n",
       "    <tr>\n",
       "      <th></th>\n",
       "      <th>States in North East India</th>\n",
       "      <th>Capitals</th>\n",
       "    </tr>\n",
       "    <tr>\n",
       "      <th></th>\n",
       "      <th>Assam</th>\n",
       "      <th>Dispur</th>\n",
       "    </tr>\n",
       "    <tr>\n",
       "      <th></th>\n",
       "      <th>Meghalaya</th>\n",
       "      <th>Shillong</th>\n",
       "    </tr>\n",
       "    <tr>\n",
       "      <th></th>\n",
       "      <th>Arunachal Pradesh</th>\n",
       "      <th>Itanagar</th>\n",
       "    </tr>\n",
       "    <tr>\n",
       "      <th></th>\n",
       "      <th>Nagaland</th>\n",
       "      <th>Kohima</th>\n",
       "    </tr>\n",
       "    <tr>\n",
       "      <th></th>\n",
       "      <th>Manipur</th>\n",
       "      <th>Imphal</th>\n",
       "    </tr>\n",
       "    <tr>\n",
       "      <th></th>\n",
       "      <th>Mizoram</th>\n",
       "      <th>Aizawl</th>\n",
       "    </tr>\n",
       "    <tr>\n",
       "      <th></th>\n",
       "      <th>Tripura</th>\n",
       "      <th>Agartala</th>\n",
       "    </tr>\n",
       "  </thead>\n",
       "  <tbody>\n",
       "  </tbody>\n",
       "</table>\n",
       "</div>"
      ],
      "text/plain": [
       "Empty DataFrame\n",
       "Columns: [(States in North East India, Assam, Meghalaya, Arunachal Pradesh, Nagaland, Manipur, Mizoram, Tripura), (Capitals, Dispur, Shillong, Itanagar, Kohima, Imphal, Aizawl, Agartala)]\n",
       "Index: []"
      ]
     },
     "execution_count": 37,
     "metadata": {},
     "output_type": "execute_result"
    }
   ],
   "source": [
    "df3[0]"
   ]
  },
  {
   "cell_type": "code",
   "execution_count": 38,
   "metadata": {},
   "outputs": [
    {
     "data": {
      "text/html": [
       "<div>\n",
       "<style scoped>\n",
       "    .dataframe tbody tr th:only-of-type {\n",
       "        vertical-align: middle;\n",
       "    }\n",
       "\n",
       "    .dataframe tbody tr th {\n",
       "        vertical-align: top;\n",
       "    }\n",
       "\n",
       "    .dataframe thead tr th {\n",
       "        text-align: left;\n",
       "    }\n",
       "</style>\n",
       "<table border=\"1\" class=\"dataframe\">\n",
       "  <thead>\n",
       "    <tr>\n",
       "      <th></th>\n",
       "      <th>States in South India</th>\n",
       "      <th>Capitals</th>\n",
       "    </tr>\n",
       "    <tr>\n",
       "      <th></th>\n",
       "      <th>Karnataka</th>\n",
       "      <th>Bangalore</th>\n",
       "    </tr>\n",
       "    <tr>\n",
       "      <th></th>\n",
       "      <th>Tamil Nadu</th>\n",
       "      <th>Chennai</th>\n",
       "    </tr>\n",
       "    <tr>\n",
       "      <th></th>\n",
       "      <th>Andhra Pradesh</th>\n",
       "      <th>Amaravati</th>\n",
       "    </tr>\n",
       "    <tr>\n",
       "      <th></th>\n",
       "      <th>Telangana</th>\n",
       "      <th>Hyderabad</th>\n",
       "    </tr>\n",
       "    <tr>\n",
       "      <th></th>\n",
       "      <th>Kerala</th>\n",
       "      <th>Trivandrum</th>\n",
       "    </tr>\n",
       "    <tr>\n",
       "      <th></th>\n",
       "      <th>Goa</th>\n",
       "      <th>Panaji</th>\n",
       "    </tr>\n",
       "  </thead>\n",
       "  <tbody>\n",
       "  </tbody>\n",
       "</table>\n",
       "</div>"
      ],
      "text/plain": [
       "Empty DataFrame\n",
       "Columns: [(States in South India, Karnataka, Tamil Nadu, Andhra Pradesh, Telangana, Kerala, Goa), (Capitals, Bangalore, Chennai, Amaravati, Hyderabad, Trivandrum, Panaji)]\n",
       "Index: []"
      ]
     },
     "execution_count": 38,
     "metadata": {},
     "output_type": "execute_result"
    }
   ],
   "source": [
    "df3[1]"
   ]
  },
  {
   "cell_type": "code",
   "execution_count": 39,
   "metadata": {},
   "outputs": [
    {
     "data": {
      "text/html": [
       "<div>\n",
       "<style scoped>\n",
       "    .dataframe tbody tr th:only-of-type {\n",
       "        vertical-align: middle;\n",
       "    }\n",
       "\n",
       "    .dataframe tbody tr th {\n",
       "        vertical-align: top;\n",
       "    }\n",
       "\n",
       "    .dataframe thead tr th {\n",
       "        text-align: left;\n",
       "    }\n",
       "</style>\n",
       "<table border=\"1\" class=\"dataframe\">\n",
       "  <thead>\n",
       "    <tr>\n",
       "      <th></th>\n",
       "      <th>North, Central, East and Western India</th>\n",
       "      <th>States and Capitals</th>\n",
       "    </tr>\n",
       "    <tr>\n",
       "      <th></th>\n",
       "      <th>Maharashtra</th>\n",
       "      <th>Mumbai</th>\n",
       "    </tr>\n",
       "    <tr>\n",
       "      <th></th>\n",
       "      <th>Gujarat</th>\n",
       "      <th>Gandhinagar</th>\n",
       "    </tr>\n",
       "    <tr>\n",
       "      <th></th>\n",
       "      <th>Rajasthan</th>\n",
       "      <th>Jaipur</th>\n",
       "    </tr>\n",
       "    <tr>\n",
       "      <th></th>\n",
       "      <th>Haryana</th>\n",
       "      <th>Chandigarh</th>\n",
       "    </tr>\n",
       "    <tr>\n",
       "      <th></th>\n",
       "      <th>Punjab</th>\n",
       "      <th>Chandigarh</th>\n",
       "    </tr>\n",
       "    <tr>\n",
       "      <th></th>\n",
       "      <th>Uttarakhand</th>\n",
       "      <th>Dehradun</th>\n",
       "    </tr>\n",
       "    <tr>\n",
       "      <th></th>\n",
       "      <th>Uttar Pradesh</th>\n",
       "      <th>Lucknow</th>\n",
       "    </tr>\n",
       "    <tr>\n",
       "      <th></th>\n",
       "      <th>Madhya Pradesh</th>\n",
       "      <th>Bhopal</th>\n",
       "    </tr>\n",
       "    <tr>\n",
       "      <th></th>\n",
       "      <th>Chhattisgarh</th>\n",
       "      <th>Raipur</th>\n",
       "    </tr>\n",
       "    <tr>\n",
       "      <th></th>\n",
       "      <th>Jharkhand</th>\n",
       "      <th>Ranchi</th>\n",
       "    </tr>\n",
       "    <tr>\n",
       "      <th></th>\n",
       "      <th>Bihar</th>\n",
       "      <th>Patna</th>\n",
       "    </tr>\n",
       "    <tr>\n",
       "      <th></th>\n",
       "      <th>West Bengal</th>\n",
       "      <th>Kolkata</th>\n",
       "    </tr>\n",
       "    <tr>\n",
       "      <th></th>\n",
       "      <th>Odisha</th>\n",
       "      <th>Bhubaneshwar</th>\n",
       "    </tr>\n",
       "    <tr>\n",
       "      <th></th>\n",
       "      <th>Sikkim</th>\n",
       "      <th>Gangtok</th>\n",
       "    </tr>\n",
       "    <tr>\n",
       "      <th></th>\n",
       "      <th>Himachal Pradesh</th>\n",
       "      <th>Shimla</th>\n",
       "    </tr>\n",
       "  </thead>\n",
       "  <tbody>\n",
       "  </tbody>\n",
       "</table>\n",
       "</div>"
      ],
      "text/plain": [
       "Empty DataFrame\n",
       "Columns: [(North, Central, East and Western India, Maharashtra, Gujarat, Rajasthan, Haryana, Punjab, Uttarakhand, Uttar Pradesh, Madhya Pradesh, Chhattisgarh, Jharkhand, Bihar, West Bengal, Odisha, Sikkim, Himachal Pradesh), (States and Capitals, Mumbai, Gandhinagar, Jaipur, Chandigarh, Chandigarh, Dehradun, Lucknow, Bhopal, Raipur, Ranchi, Patna, Kolkata, Bhubaneshwar, Gangtok, Shimla)]\n",
       "Index: []"
      ]
     },
     "execution_count": 39,
     "metadata": {},
     "output_type": "execute_result"
    }
   ],
   "source": [
    "df3[2]"
   ]
  },
  {
   "cell_type": "code",
   "execution_count": 43,
   "metadata": {},
   "outputs": [],
   "source": [
    "df3[0].to_csv(\"state_capital_NE.csv\")"
   ]
  },
  {
   "cell_type": "code",
   "execution_count": 44,
   "metadata": {},
   "outputs": [],
   "source": [
    "df3[1].to_csv(\"state_capital_S.csv\")"
   ]
  },
  {
   "cell_type": "code",
   "execution_count": 45,
   "metadata": {},
   "outputs": [],
   "source": [
    "df3[2].to_csv(\"state_capital.csv\")"
   ]
  },
  {
   "cell_type": "code",
   "execution_count": null,
   "metadata": {},
   "outputs": [],
   "source": []
  }
 ],
 "metadata": {
  "kernelspec": {
   "display_name": "Python 3",
   "language": "python",
   "name": "python3"
  },
  "language_info": {
   "codemirror_mode": {
    "name": "ipython",
    "version": 3
   },
   "file_extension": ".py",
   "mimetype": "text/x-python",
   "name": "python",
   "nbconvert_exporter": "python",
   "pygments_lexer": "ipython3",
   "version": "3.12.7"
  }
 },
 "nbformat": 4,
 "nbformat_minor": 2
}
