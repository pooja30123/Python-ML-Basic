{
 "cells": [
  {
   "cell_type": "code",
   "execution_count": 12,
   "metadata": {},
   "outputs": [],
   "source": [
    "import requests\n",
    "from bs4 import BeautifulSoup\n",
    "from urllib.request import urlopen \n",
    "import logging\n",
    "#import pymongo\n",
    "import os\n"
   ]
  },
  {
   "cell_type": "code",
   "execution_count": 13,
   "metadata": {},
   "outputs": [],
   "source": [
    "save_dir = \"images/\"+ input(\"Write Folder Name\")\n",
    "if not os.path.exists(save_dir):\n",
    "    os.makedirs(save_dir)"
   ]
  },
  {
   "cell_type": "code",
   "execution_count": 23,
   "metadata": {},
   "outputs": [],
   "source": [
    "headers = {\n",
    "    \"User-Agent\": \"Mozilla/5.0 (Windows NT 10.0; Win64; x64) AppleWebKit/537.36 (KHTML, like Gecko) Chrome/58.0.3029.110 Safari/537.36\"\n",
    "}"
   ]
  },
  {
   "cell_type": "code",
   "execution_count": 15,
   "metadata": {},
   "outputs": [],
   "source": [
    "query = input(\"Enter Image Name\")\n",
    "response = requests.get(f\"https://www.google.com/search?sca_esv=601425548&rlz=1C1CHBF_enIN1084IN1084&sxsrf=ACQVn09CSwR4DwKVVecIepHCTvexuk-L0w:1706194995876&q={query}&tbm=isch&source=lnms&sa=X&ved=2ahUKEwik8pXV5_iDAxVTlK8BHf0gCQIQ0pQJegQIERAB&biw=768&bih=728&dpr=1.25\")"
   ]
  },
  {
   "cell_type": "code",
   "execution_count": 16,
   "metadata": {},
   "outputs": [
    {
     "data": {
      "text/plain": [
       "<Response [200]>"
      ]
     },
     "execution_count": 16,
     "metadata": {},
     "output_type": "execute_result"
    }
   ],
   "source": [
    "response"
   ]
  },
  {
   "cell_type": "code",
   "execution_count": 17,
   "metadata": {},
   "outputs": [
    {
     "data": {
      "text/plain": [
       "b'<!DOCTYPE html PUBLIC \"-//WAPFORUM//DTD XHTML Mobile 1.0//EN\" \"http://www.wapforum.org/DTD/xhtml-mobile10.dtd\"><html xmlns=\"http://www.w3.org/1999/xhtml\" lang=\"en-IN\"><head><meta content=\"application/xhtml+xml; charset=UTF-8\" http-equiv=\"Content-Type\"/><meta content=\"no-cache\" name=\"Cache-Control\"/><title>Arijit Singh - Google Search</title><style>a{text-decoration:none;color:inherit}a:hover{text-decoration:underline}a img{border:0}body{font-family:sans-serif;padding:8px;margin:0 auto;max-width:700px;min-width:240px;}.FbhRzb{border-left:thin solid #dadce0;border-right:thin solid #dadce0;border-top:thin solid #dadce0;height:40px;overflow:hidden}.n692Zd{margin-bottom:10px}.cvifge{height:40px;border-spacing:0}.QvGUP{height:40px;padding:0 8px 0 8px;vertical-align:top}.O4cRJf{height:40px;width:100%;padding:0;padding-right:14px}.O1ePr{height:40px;padding:0;vertical-align:top}.kgJEQe{height:36px;width:98px;vertical-align:top;margin-top:4px}.lXLRf{vertical-align:top}.MhzMZd{border:0;vertical-align:middle;font-size:14px;height:40px;padding:0;width:100%;padding-left:14px}.xB0fq{height:40px;border:none;font-size:14px;background-color:#1a73e8;color:#fff;padding:0 14px;margin:0;vertical-align:top;cursor:pointer}.xB0fq:focus{border:1px solid #1a73e8}.M7pB2{border:thin solid #dadce0;margin:0 0 3px 0;font-size:13px;font-weight:500;height:40px}.euZec{width:100%;height:40px;text-align:center;border-spacing:0}table.euZec td{padding:0;width:25%}.QIqI7{display:inline-block;padding-top:4px;font-weight:bold;color:#4285f4}.EY24We{border-bottom:2px solid #4285f4}.CsQyDc{display:inline-block;color:#70757a}.TuS8Ad{font-size:14px}.HddGcc{padding:8px;color:#70757a}.dzp8ae{font-weight:bold;color:#3c4043}.rEM8G{color:#70757a}.bookcf{table-layout:fixed;width:100%;border-spacing:0}.InWNIe{text-align:center}.uZgmoc{border:thin solid #dadce0;color:#70757a;font-size:14px;text-align:center;table-layout:fixed;width:100%}.frGj1b{display:block;padding:16px 0 12px 0;width:100%}.BnJWBc{text-align:center;padding:6px 0 13px 0;height:35px}.e3goi{vertical-align:top;padding:0;height:180px}.GpQGbf{margin:auto;border-collapse:collapse;border-spacing:0;width:100%}</style></head><body><style>.X6ZCif{color:#202124;font-size:11px;line-height:16px;display:inline-block;padding-top:2px;overflow:hidden;padding-bottom:4px;width:100%}.TwVfHd{border-radius:16px;border:thin solid #dadce0;display:inline-block;padding:8px 8px;margin-right:8px;margin-bottom:4px}.yekiAe{background-color:#dadce0}.jjVJ4e{width:100%}.ezO2md{border:thin solid #dadce0;padding:16px 14px 12px 14px;margin-bottom:10px;font-family:sans-serif}.lIMUZd{font-family:sans-serif}.RntSmf{border-spacing:0}.lgD2Tc{width:100%}.SpelHe{text-align:center}.SpelHe{position:relative}.kCmkOe{position:relative}.kCmkOe{width:162px;height:140px;line-height:140px;overflow:\\'hidden\\';text-align:center}.DS1iW{text-align:center;margin:auto;vertical-align:middle;max-width:162px;max-height:140px}.AlD19d{padding-top:2px;padding-bottom:8px;}.fYyStc{word-break:break-word}.ynsChf{display:block;white-space:nowrap;overflow:hidden;text-overflow:ellipsis}.Fj3V3b{color:#1967d2;font-size:14px;line-height:20px}.FrIlee{color:#202124;font-size:11px;line-height:16px}.F9iS2e{color:#70757a;font-size:11px;line-height:16px}.WMQ2Le{color:#70757a;font-size:12px;line-height:16px}.x3G5ab{color:#202124;font-size:12px;line-height:16px}.fuLhoc{color:#1967d2;font-size:16px;line-height:20px}.epoveb{font-size:24px;line-height:28px;font-weight:400;color:#202124}.dXDvrc{color:#0d652d;font-size:14px;line-height:20px;word-wrap:break-word}.dloBPe{font-weight:bold}.YVIcad{color:#70757a}.JkVVdd{color:#ea4335}.oXZRFd{color:#ea4335}.MQHtg{color:#fbbc04}.pyMRrb{color:#1e8e3e}.EtTZid{color:#1e8e3e}.M3vVJe{color:#1967d2}.qXLe6d{display:block}.NHQNef{font-style:italic}.Cb8Z7c{white-space:pre}a.ZWRArf{text-decoration:none}a .CVA68e:hover{text-decoration:underline}</style><div class=\"n692Zd\"><div class=\"BnJWBc\"><a class=\"lXLRf\" href=\"/?sa=X&amp;sca_esv=601425548&amp;rlz=1C1CHBF_enIN1084IN1084&amp;biw=768&amp;bih=728&amp;output=images&amp;ie=UTF-8&amp;tbm=isch&amp;ved=0ahUKEwj5pv--lMOMAxWq2jgGHfg3Dx4QPAgC\"><img class=\"kgJEQe\" src=\"/images/branding/searchlogo/1x/googlelogo_desk_heirloom_color_150x55dp.gif\" alt=\"Google\"/></a></div><div class=\"FbhRzb\"><form action=\"/search\"><input name=\"sca_esv\" value=\"601425548\" type=\"hidden\"/><input name=\"rlz\" value=\"1C1CHBF_enIN1084IN1084\" type=\"hidden\"/><input name=\"biw\" value=\"768\" type=\"hidden\"/><input name=\"bih\" value=\"728\" type=\"hidden\"/><input name=\"ie\" value=\"ISO-8859-1\" type=\"hidden\"/><input name=\"tbm\" value=\"isch\" type=\"hidden\"/><input name=\"oq\" type=\"hidden\"/><input name=\"aqs\" type=\"hidden\"/><table class=\"cvifge\"><tr><td class=\"O4cRJf\"><input class=\"MhzMZd\" value=\"Arijit Singh\" name=\"q\" type=\"text\"/></td><td class=\"O1ePr\"><input class=\"xB0fq\" value=\"Search\" type=\"submit\"/></td></tr></table></form></div><div class=\"M7pB2\"><table class=\"euZec\"><tbody><tr><td><a class=\"CsQyDc\" href=\"/search?q=Arijit+Singh&amp;sca_esv=601425548&amp;rlz=1C1CHBF_enIN1084IN1084&amp;biw=768&amp;bih=728&amp;ie=UTF-8&amp;source=lnms&amp;sa=X&amp;ved=0ahUKEwj5pv--lMOMAxWq2jgGHfg3Dx4Q_AUIBCgA\">ALL</a></td><td class=\"EY24We\"><span class=\"QIqI7\">IMAGES</span></td><td><a class=\"CsQyDc\" href=\"/search?q=Arijit+Singh&amp;sca_esv=601425548&amp;rlz=1C1CHBF_enIN1084IN1084&amp;biw=768&amp;bih=728&amp;ie=UTF-8&amp;tbm=nws&amp;source=lnms&amp;sa=X&amp;ved=0ahUKEwj5pv--lMOMAxWq2jgGHfg3Dx4Q_AUIBigC\">NEWS</a></td><td><a class=\"CsQyDc\" href=\"/search?q=Arijit+Singh&amp;sca_esv=601425548&amp;rlz=1C1CHBF_enIN1084IN1084&amp;biw=768&amp;bih=728&amp;ie=UTF-8&amp;tbm=vid&amp;source=lnms&amp;sa=X&amp;ved=0ahUKEwj5pv--lMOMAxWq2jgGHfg3Dx4Q_AUIBygD\">VIDEOS</a></td></tr></tbody></table></div></div><div><table class=\"GpQGbf\"><tr><td class=\"e3goi\" align=\"center\"><div class=\"jjVJ4e\"> <div> <div class=\"lIMUZd\"><div><table class=\"RntSmf\"><tr><td><a href=\"/url?q=https://en.wikipedia.org/wiki/Arijit_Singh&amp;sa=U&amp;ved=2ahUKEwj5pv--lMOMAxWq2jgGHfg3Dx4QqoUBegQIBBAB&amp;usg=AOvVaw0t_flvdJcAVY91vSoP2PYm\"><div class=\"kCmkOe\"><img class=\"DS1iW\" alt=\"\" src=\"https://encrypted-tbn0.gstatic.com/images?q=tbn:ANd9GcTSnMVSPJH4QgoSxyYK38-V1n3CXjugAbkqc7INBqlCPdLLSgTZFb0-UavuEnM&amp;s\"/></div></a></td></tr><tr><td><a href=\"/url?q=https://en.wikipedia.org/wiki/Arijit_Singh&amp;sa=U&amp;ved=2ahUKEwj5pv--lMOMAxWq2jgGHfg3Dx4Qr4kDegQIBBAC&amp;usg=AOvVaw08uClcPAm1Bq5mHO4PJdqO\"><div class=\"AlD19d\">  <span class=\"qXLe6d x3G5ab\">  <span class=\"fYyStc\">Arijit Singh - Wikipedia</span>  </span>   <span class=\"qXLe6d F9iS2e\">  <span class=\"fYyStc\">en.wikipedia.org</span>  </span> </div></a></td></tr></table></div></div> </div> </div></td><td class=\"e3goi\" align=\"center\"><div class=\"jjVJ4e\"> <div> <div class=\"lIMUZd\"><div><table class=\"RntSmf\"><tr><td><a href=\"/url?q=https://open.spotify.com/artist/4YRxDV8wJFPHPTeXepOstw&amp;sa=U&amp;ved=2ahUKEwj5pv--lMOMAxWq2jgGHfg3Dx4QqoUBegQIFBAB&amp;usg=AOvVaw15TzCGrjUi4M4_3m24UH0k\"><div class=\"kCmkOe\"><img class=\"DS1iW\" alt=\"\" src=\"https://encrypted-tbn0.gstatic.com/images?q=tbn:ANd9GcQvsPPmneGvIkjfdcJcXixH7bTpqHC_kRRMWZZQkQdbuGC1G2IJJRgf1XYr2Qg&amp;s\"/></div></a></td></tr><tr><td><a href=\"/url?q=https://open.spotify.com/artist/4YRxDV8wJFPHPTeXepOstw&amp;sa=U&amp;ved=2ahUKEwj5pv--lMOMAxWq2jgGHfg3Dx4Qr4kDegQIFBAC&amp;usg=AOvVaw31iBVRytckw8qtngQ5i393\"><div class=\"AlD19d\">  <span class=\"qXLe6d x3G5ab\">  <span class=\"fYyStc\">Arijit Singh | Spotify</span>  </span>   <span class=\"qXLe6d F9iS2e\">  <span class=\"fYyStc\">open.spotify.com</span>  </span> </div></a></td></tr></table></div></div> </div> </div></td><td class=\"e3goi\" align=\"center\"><div class=\"jjVJ4e\"> <div> <div class=\"lIMUZd\"><div><table class=\"RntSmf\"><tr><td><a href=\"/url?q=https://m.facebook.com/ArijitSinghLiveUpdates/photos/&amp;sa=U&amp;ved=2ahUKEwj5pv--lMOMAxWq2jgGHfg3Dx4QqoUBegQIExAB&amp;usg=AOvVaw1mVxY6UvnAaRXnE7kjYR1r\"><div class=\"kCmkOe\"><img class=\"DS1iW\" alt=\"\" src=\"https://encrypted-tbn0.gstatic.com/images?q=tbn:ANd9GcSfMtqS1xHubF4Ah3peAWwg8KlPLP8Z_4SPiUiIbG8XedGBD6Dc6Vz0voR4JQ&amp;s\"/></div></a></td></tr><tr><td><a href=\"/url?q=https://m.facebook.com/ArijitSinghLiveUpdates/photos/&amp;sa=U&amp;ved=2ahUKEwj5pv--lMOMAxWq2jgGHfg3Dx4Qr4kDegQIExAC&amp;usg=AOvVaw3KcDA2o3y31Ao4QAMdzvTu\"><div class=\"AlD19d\">  <span class=\"qXLe6d x3G5ab\">  <span class=\"fYyStc\">Profile for Arijit Singh -...</span>  </span>   <span class=\"qXLe6d F9iS2e\">  <span class=\"fYyStc\">m.facebook.com</span>  </span> </div></a></td></tr></table></div></div> </div> </div></td><td class=\"e3goi\" align=\"center\"><div class=\"jjVJ4e\"> <div> <div class=\"lIMUZd\"><div><table class=\"RntSmf\"><tr><td><a href=\"/url?q=https://pearlentertainment.in/listing/arijit-singh/&amp;sa=U&amp;ved=2ahUKEwj5pv--lMOMAxWq2jgGHfg3Dx4QqoUBegQIEhAB&amp;usg=AOvVaw2dyzX1YaPBPkQljVViN5i7\"><div class=\"kCmkOe\"><img class=\"DS1iW\" alt=\"\" src=\"https://encrypted-tbn0.gstatic.com/images?q=tbn:ANd9GcQfF1fpyWlpk4ev4sdUFoJloFGxRcUEoOlYMPxDy4sfH8xyDyWbse6yHhWVLA&amp;s\"/></div></a></td></tr><tr><td><a href=\"/url?q=https://pearlentertainment.in/listing/arijit-singh/&amp;sa=U&amp;ved=2ahUKEwj5pv--lMOMAxWq2jgGHfg3Dx4Qr4kDegQIEhAC&amp;usg=AOvVaw1egsmzXGBglKMWBvLct49T\"><div class=\"AlD19d\">  <span class=\"qXLe6d x3G5ab\">  <span class=\"fYyStc\">Arijit Singh - Pearl...</span>  </span>   <span class=\"qXLe6d F9iS2e\">  <span class=\"fYyStc\">pearlentertainment.in</span>  </span> </div></a></td></tr></table></div></div> </div> </div></td></tr><tr><td class=\"e3goi\" align=\"center\"><div class=\"jjVJ4e\"> <div> <div class=\"lIMUZd\"><div><table class=\"RntSmf\"><tr><td><a href=\"/url?q=https://starclinch.com/arijit-singh&amp;sa=U&amp;ved=2ahUKEwj5pv--lMOMAxWq2jgGHfg3Dx4QqoUBegQIDxAB&amp;usg=AOvVaw30HXRGx4zxo2FTLylNjaAi\"><div class=\"kCmkOe\"><img class=\"DS1iW\" alt=\"\" src=\"https://encrypted-tbn0.gstatic.com/images?q=tbn:ANd9GcS3PdGVwpbYNuizzVYMztUZw_R_hTGdmJ6nXXnZZXX3I1WIPTfkYNbHSEGum_g&amp;s\"/></div></a></td></tr><tr><td><a href=\"/url?q=https://starclinch.com/arijit-singh&amp;sa=U&amp;ved=2ahUKEwj5pv--lMOMAxWq2jgGHfg3Dx4Qr4kDegQIDxAC&amp;usg=AOvVaw2u98FQwIFEUbFYbZlO-_gM\"><div class=\"AlD19d\">  <span class=\"qXLe6d x3G5ab\">  <span class=\"fYyStc\">Book / Hire SINGER Arijit...</span>  </span>   <span class=\"qXLe6d F9iS2e\">  <span class=\"fYyStc\">starclinch.com</span>  </span> </div></a></td></tr></table></div></div> </div> </div></td><td class=\"e3goi\" align=\"center\"><div class=\"jjVJ4e\"> <div> <div class=\"lIMUZd\"><div><table class=\"RntSmf\"><tr><td><a href=\"/url?q=https://in.pinterest.com/pin/arijit-singh-4k-photos--696439529890193330/&amp;sa=U&amp;ved=2ahUKEwj5pv--lMOMAxWq2jgGHfg3Dx4QqoUBegQIEBAB&amp;usg=AOvVaw3QmHuA2rhzxJpsYdZjdRmu\"><div class=\"kCmkOe\"><img class=\"DS1iW\" alt=\"\" src=\"https://encrypted-tbn0.gstatic.com/images?q=tbn:ANd9GcTibl_SLi0xbH4CcLfyJbhzzLB-n5cg99V84iE_omBshDuIPxIkpqWJ89ZctSA&amp;s\"/></div></a></td></tr><tr><td><a href=\"/url?q=https://in.pinterest.com/pin/arijit-singh-4k-photos--696439529890193330/&amp;sa=U&amp;ved=2ahUKEwj5pv--lMOMAxWq2jgGHfg3Dx4Qr4kDegQIEBAC&amp;usg=AOvVaw0Kl5CFxDvsfrUcT4NbfJwi\"><div class=\"AlD19d\">  <span class=\"qXLe6d x3G5ab\">  <span class=\"fYyStc\">Arijit singh 4k photo\\'s</span>  </span>   <span class=\"qXLe6d F9iS2e\">  <span class=\"fYyStc\">in.pinterest.com</span>  </span> </div></a></td></tr></table></div></div> </div> </div></td><td class=\"e3goi\" align=\"center\"><div class=\"jjVJ4e\"> <div> <div class=\"lIMUZd\"><div><table class=\"RntSmf\"><tr><td><a href=\"/url?q=https://www.district.in/arijit-singh/artist&amp;sa=U&amp;ved=2ahUKEwj5pv--lMOMAxWq2jgGHfg3Dx4QqoUBegQIERAB&amp;usg=AOvVaw3O5ila3RwbSJkF3LJzBZaA\"><div class=\"kCmkOe\"><img class=\"DS1iW\" alt=\"\" src=\"https://encrypted-tbn0.gstatic.com/images?q=tbn:ANd9GcTN5fZic_IlKnZQ9ZN8_VWwoSHd4z6_-e-7Gj-2YptxvHHPVwQawdbToJqIYg&amp;s\"/></div></a></td></tr><tr><td><a href=\"/url?q=https://www.district.in/arijit-singh/artist&amp;sa=U&amp;ved=2ahUKEwj5pv--lMOMAxWq2jgGHfg3Dx4Qr4kDegQIERAC&amp;usg=AOvVaw1AcAs8hxFyGDhRkjPlRMGo\"><div class=\"AlD19d\">  <span class=\"qXLe6d x3G5ab\">  <span class=\"fYyStc\">Arijit Singh Shows, Tickets...</span>  </span>   <span class=\"qXLe6d F9iS2e\">  <span class=\"fYyStc\">www.district.in</span>  </span> </div></a></td></tr></table></div></div> </div> </div></td><td class=\"e3goi\" align=\"center\"><div class=\"jjVJ4e\"> <div> <div class=\"lIMUZd\"><div><table class=\"RntSmf\"><tr><td><a href=\"/url?q=https://www.instagram.com/arijitsingh/&amp;sa=U&amp;ved=2ahUKEwj5pv--lMOMAxWq2jgGHfg3Dx4QqoUBegQIChAB&amp;usg=AOvVaw1zz6EfP7h8_bxwMzbCP41L\"><div class=\"kCmkOe\"><img class=\"DS1iW\" alt=\"\" src=\"https://encrypted-tbn0.gstatic.com/images?q=tbn:ANd9GcSMmB2Iw9baje5WfHVT0W9X4VxDES8-cE3y91ExCxoYVdw3hlCO83wcmgSEbiA&amp;s\"/></div></a></td></tr><tr><td><a href=\"/url?q=https://www.instagram.com/arijitsingh/&amp;sa=U&amp;ved=2ahUKEwj5pv--lMOMAxWq2jgGHfg3Dx4Qr4kDegQIChAC&amp;usg=AOvVaw1gIYcY-FsmErX5KMCpNY6W\"><div class=\"AlD19d\">  <span class=\"qXLe6d x3G5ab\">  <span class=\"fYyStc\">Arijit Singh (@arijitsingh)...</span>  </span>   <span class=\"qXLe6d F9iS2e\">  <span class=\"fYyStc\">www.instagram.com</span>  </span> </div></a></td></tr></table></div></div> </div> </div></td></tr><tr><td class=\"e3goi\" align=\"center\"><div class=\"jjVJ4e\"> <div> <div class=\"lIMUZd\"><div><table class=\"RntSmf\"><tr><td><a href=\"/url?q=https://www.radioandmusic.com/entertainment/editorial/news/231214-arijit-singh-live-concerts-new-date-january&amp;sa=U&amp;ved=2ahUKEwj5pv--lMOMAxWq2jgGHfg3Dx4QqoUBegQICxAB&amp;usg=AOvVaw1YPjeeYXGPmfKrjR1XClrb\"><div class=\"kCmkOe\"><img class=\"DS1iW\" alt=\"\" src=\"https://encrypted-tbn0.gstatic.com/images?q=tbn:ANd9GcQxHYLEIqDNpjVj9avMd2Fpai6pOwQpGsYlCliNCnTCZVItxmnxQnrkda6QrA&amp;s\"/></div></a></td></tr><tr><td><a href=\"/url?q=https://www.radioandmusic.com/entertainment/editorial/news/231214-arijit-singh-live-concerts-new-date-january&amp;sa=U&amp;ved=2ahUKEwj5pv--lMOMAxWq2jgGHfg3Dx4Qr4kDegQICxAC&amp;usg=AOvVaw3Z-3euPWVBwrT-uiswhROw\"><div class=\"AlD19d\">  <span class=\"qXLe6d x3G5ab\">  <span class=\"fYyStc\">Arijit Singh live in...</span>  </span>   <span class=\"qXLe6d F9iS2e\">  <span class=\"fYyStc\">www.radioandmusic.com</span>  </span> </div></a></td></tr></table></div></div> </div> </div></td><td class=\"e3goi\" align=\"center\"><div class=\"jjVJ4e\"> <div> <div class=\"lIMUZd\"><div><table class=\"RntSmf\"><tr><td><a href=\"/url?q=https://wallpapers.com/wallpapers/arijit-singh-on-live-concert-x0d4ij6s2fuxbvg5.html&amp;sa=U&amp;ved=2ahUKEwj5pv--lMOMAxWq2jgGHfg3Dx4QqoUBegQIDRAB&amp;usg=AOvVaw2EOZNP-K9tWzsIPXYNjLSi\"><div class=\"kCmkOe\"><img class=\"DS1iW\" alt=\"\" src=\"https://encrypted-tbn0.gstatic.com/images?q=tbn:ANd9GcSTDuOgzNatXbHoYo25bC8Jkat44mY_N9owFeTle6ABNx6oZ3v1z16eWoRHcnA&amp;s\"/></div></a></td></tr><tr><td><a href=\"/url?q=https://wallpapers.com/wallpapers/arijit-singh-on-live-concert-x0d4ij6s2fuxbvg5.html&amp;sa=U&amp;ved=2ahUKEwj5pv--lMOMAxWq2jgGHfg3Dx4Qr4kDegQIDRAC&amp;usg=AOvVaw2Oay72uI9zOAR6SXXG8ox7\"><div class=\"AlD19d\">  <span class=\"qXLe6d x3G5ab\">  <span class=\"fYyStc\">Download Arijit Singh On...</span>  </span>   <span class=\"qXLe6d F9iS2e\">  <span class=\"fYyStc\">wallpapers.com</span>  </span> </div></a></td></tr></table></div></div> </div> </div></td><td class=\"e3goi\" align=\"center\"><div class=\"jjVJ4e\"> <div> <div class=\"lIMUZd\"><div><table class=\"RntSmf\"><tr><td><a href=\"/url?q=https://www.facebook.com/fan.from.kerala/&amp;sa=U&amp;ved=2ahUKEwj5pv--lMOMAxWq2jgGHfg3Dx4QqoUBegQIDBAB&amp;usg=AOvVaw1uvV7uN2Ya354OTy32qZuZ\"><div class=\"kCmkOe\"><img class=\"DS1iW\" alt=\"\" src=\"https://encrypted-tbn0.gstatic.com/images?q=tbn:ANd9GcRDHd-vnkLCIY3oxyS1IywWAZ5WaDad7GT-MjYACWXURJI4VbmwFfCHlx9ETHM&amp;s\"/></div></a></td></tr><tr><td><a href=\"/url?q=https://www.facebook.com/fan.from.kerala/&amp;sa=U&amp;ved=2ahUKEwj5pv--lMOMAxWq2jgGHfg3Dx4Qr4kDegQIDBAC&amp;usg=AOvVaw1iEiI_QgOWWKuZd1bxflmx\"><div class=\"AlD19d\">  <span class=\"qXLe6d x3G5ab\">  <span class=\"fYyStc\">Profile for Arijit Singh...</span>  </span>   <span class=\"qXLe6d F9iS2e\">  <span class=\"fYyStc\">www.facebook.com</span>  </span> </div></a></td></tr></table></div></div> </div> </div></td><td class=\"e3goi\" align=\"center\"><div class=\"jjVJ4e\"> <div> <div class=\"lIMUZd\"><div><table class=\"RntSmf\"><tr><td><a href=\"/url?q=https://in.bookmyshow.com/person/arijit-singh/1048083&amp;sa=U&amp;ved=2ahUKEwj5pv--lMOMAxWq2jgGHfg3Dx4QqoUBegQIDhAB&amp;usg=AOvVaw0XgO-W3oHujLVwh9MOr-ve\"><div class=\"kCmkOe\"><img class=\"DS1iW\" alt=\"\" src=\"https://encrypted-tbn0.gstatic.com/images?q=tbn:ANd9GcRTjlNRXVLMIIm50111Xel31JsYRuRmlK09v82tkEt6Is02Ce9n1CxrWpPqew&amp;s\"/></div></a></td></tr><tr><td><a href=\"/url?q=https://in.bookmyshow.com/person/arijit-singh/1048083&amp;sa=U&amp;ved=2ahUKEwj5pv--lMOMAxWq2jgGHfg3Dx4Qr4kDegQIDhAC&amp;usg=AOvVaw2Hw99_eaowqHq_FyRlY8bE\"><div class=\"AlD19d\">  <span class=\"qXLe6d x3G5ab\">  <span class=\"fYyStc\">Arijit Singh - Movies,...</span>  </span>   <span class=\"qXLe6d F9iS2e\">  <span class=\"fYyStc\">in.bookmyshow.com</span>  </span> </div></a></td></tr></table></div></div> </div> </div></td></tr><tr><td class=\"e3goi\" align=\"center\"><div class=\"jjVJ4e\"> <div> <div class=\"lIMUZd\"><div><table class=\"RntSmf\"><tr><td><a href=\"/url?q=https://www.instagram.com/believeinarijit/p/DBTvTGFSf3s/&amp;sa=U&amp;ved=2ahUKEwj5pv--lMOMAxWq2jgGHfg3Dx4QqoUBegQIAxAB&amp;usg=AOvVaw28C1xwIwDvfyWa18O8DUls\"><div class=\"kCmkOe\"><img class=\"DS1iW\" alt=\"\" src=\"https://encrypted-tbn0.gstatic.com/images?q=tbn:ANd9GcR847Rlsn4_gNDyEc9QlO5zax0mO57tjnbtQcLIl94PS2hGQPp_Pli1LwJcqC0&amp;s\"/></div></a></td></tr><tr><td><a href=\"/url?q=https://www.instagram.com/believeinarijit/p/DBTvTGFSf3s/&amp;sa=U&amp;ved=2ahUKEwj5pv--lMOMAxWq2jgGHfg3Dx4Qr4kDegQIAxAC&amp;usg=AOvVaw0xHi6wBgVu5g79n5hyz4JA\"><div class=\"AlD19d\">  <span class=\"qXLe6d x3G5ab\">  <span class=\"fYyStc\">ASNever Concert Photo&#9829;...</span>  </span>   <span class=\"qXLe6d F9iS2e\">  <span class=\"fYyStc\">www.instagram.com</span>  </span> </div></a></td></tr></table></div></div> </div> </div></td><td class=\"e3goi\" align=\"center\"><div class=\"jjVJ4e\"> <div> <div class=\"lIMUZd\"><div><table class=\"RntSmf\"><tr><td><a href=\"/url?q=https://www.tv9hindi.com/entertainment/bollywood-news/arijit-singhs-life-story-from-tussle-with-salman-khan-to-being-one-of-the-best-singers-in-bollywood-2572314.html&amp;sa=U&amp;ved=2ahUKEwj5pv--lMOMAxWq2jgGHfg3Dx4QqoUBegQIBRAB&amp;usg=AOvVaw2-9cW34Fl96TqklKS4DDaq\"><div class=\"kCmkOe\"><img class=\"DS1iW\" alt=\"\" src=\"https://encrypted-tbn0.gstatic.com/images?q=tbn:ANd9GcR16ChOvruotIuYZvMC_GzWPqaGcEzgtW__WBIc3xMPDFXdatcP7BwtatBdMQ&amp;s\"/></div></a></td></tr><tr><td><a href=\"/url?q=https://www.tv9hindi.com/entertainment/bollywood-news/arijit-singhs-life-story-from-tussle-with-salman-khan-to-being-one-of-the-best-singers-in-bollywood-2572314.html&amp;sa=U&amp;ved=2ahUKEwj5pv--lMOMAxWq2jgGHfg3Dx4Qr4kDegQIBRAC&amp;usg=AOvVaw0sZ8AUfbAXt3g0J-w89t4S\"><div class=\"AlD19d\">  <span class=\"qXLe6d x3G5ab\">  <span class=\"fYyStc\">Arijit Singh: &#2325;&#2361;&#2366;&#2344;&#2368; &#2313;&#2360;...</span>  </span>   <span class=\"qXLe6d F9iS2e\">  <span class=\"fYyStc\">www.tv9hindi.com</span>  </span> </div></a></td></tr></table></div></div> </div> </div></td><td class=\"e3goi\" align=\"center\"><div class=\"jjVJ4e\"> <div> <div class=\"lIMUZd\"><div><table class=\"RntSmf\"><tr><td><a href=\"/url?q=https://timesofindia.indiatimes.com/tv/news/hindi/arijit-singh-god-forbid-if-i-dont-get-to-sing-songs-tomorrow-i-will-become-a-music-producer/articleshow/53685158.cms&amp;sa=U&amp;ved=2ahUKEwj5pv--lMOMAxWq2jgGHfg3Dx4QqoUBegQICBAB&amp;usg=AOvVaw2e6EvFqRjw1RDoKWdIaxjD\"><div class=\"kCmkOe\"><img class=\"DS1iW\" alt=\"\" src=\"https://encrypted-tbn0.gstatic.com/images?q=tbn:ANd9GcRFZTswbO257qssJyp38RpKXkm9iJnqavK4eb2D7rjmxH3GLFSHWCa3qvmszFo&amp;s\"/></div></a></td></tr><tr><td><a href=\"/url?q=https://timesofindia.indiatimes.com/tv/news/hindi/arijit-singh-god-forbid-if-i-dont-get-to-sing-songs-tomorrow-i-will-become-a-music-producer/articleshow/53685158.cms&amp;sa=U&amp;ved=2ahUKEwj5pv--lMOMAxWq2jgGHfg3Dx4Qr4kDegQICBAC&amp;usg=AOvVaw2TAxpUXFlnjcMNjLSkoj7G\"><div class=\"AlD19d\">  <span class=\"qXLe6d x3G5ab\">  <span class=\"fYyStc\">Arijit Singh: God forbid,...</span>  </span>   <span class=\"qXLe6d F9iS2e\">  <span class=\"fYyStc\">timesofindia.indiatimes.com...</span>  </span> </div></a></td></tr></table></div></div> </div> </div></td><td class=\"e3goi\" align=\"center\"><div class=\"jjVJ4e\"> <div> <div class=\"lIMUZd\"><div><table class=\"RntSmf\"><tr><td><a href=\"/url?q=https://hi.wikipedia.org/wiki/%25E0%25A4%2585%25E0%25A4%25B0%25E0%25A4%25BF%25E0%25A4%259C%25E0%25A5%2580%25E0%25A4%25A4_%25E0%25A4%25B8%25E0%25A4%25BF%25E0%25A4%2582%25E0%25A4%25B9&amp;sa=U&amp;ved=2ahUKEwj5pv--lMOMAxWq2jgGHfg3Dx4QqoUBegQICRAB&amp;usg=AOvVaw12drF_JVyRKlqYllB_dtN2\"><div class=\"kCmkOe\"><img class=\"DS1iW\" alt=\"\" src=\"https://encrypted-tbn0.gstatic.com/images?q=tbn:ANd9GcRsP6OAQoJRLPoyi-fS68ylasBLQx_E3m84yFqv_8EsqoTnqPwOmnWMyd3OSg&amp;s\"/></div></a></td></tr><tr><td><a href=\"/url?q=https://hi.wikipedia.org/wiki/%25E0%25A4%2585%25E0%25A4%25B0%25E0%25A4%25BF%25E0%25A4%259C%25E0%25A5%2580%25E0%25A4%25A4_%25E0%25A4%25B8%25E0%25A4%25BF%25E0%25A4%2582%25E0%25A4%25B9&amp;sa=U&amp;ved=2ahUKEwj5pv--lMOMAxWq2jgGHfg3Dx4Qr4kDegQICRAC&amp;usg=AOvVaw0sdW_aZN0lJ50TUs_waQHl\"><div class=\"AlD19d\">  <span class=\"qXLe6d x3G5ab\">  <span class=\"fYyStc\">&#2309;&#2352;&#2367;&#2332;&#2368;&#2340; &#2360;&#2367;&#2306;&#2361; - &#2357;&#2367;&#2325;&#2367;&#2346;&#2368;&#2337;&#2367;&#2351;&#2366;</span>  </span>   <span class=\"qXLe6d F9iS2e\">  <span class=\"fYyStc\">hi.wikipedia.org</span>  </span> </div></a></td></tr></table></div></div> </div> </div></td></tr><tr><td class=\"e3goi\" align=\"center\"><div class=\"jjVJ4e\"> <div> <div class=\"lIMUZd\"><div><table class=\"RntSmf\"><tr><td><a href=\"/url?q=https://mn2s.com/booking-agency/live-roster/arijit-singh/&amp;sa=U&amp;ved=2ahUKEwj5pv--lMOMAxWq2jgGHfg3Dx4QqoUBegQIAhAB&amp;usg=AOvVaw2NrOmwaXmpv9trhM8TT42L\"><div class=\"kCmkOe\"><img class=\"DS1iW\" alt=\"\" src=\"https://encrypted-tbn0.gstatic.com/images?q=tbn:ANd9GcRMFeU4zIKdX5O0r34ffdfxoyalhL1eiTG6cm9dM1ESgvb0jXS9H-ODFouM6sI&amp;s\"/></div></a></td></tr><tr><td><a href=\"/url?q=https://mn2s.com/booking-agency/live-roster/arijit-singh/&amp;sa=U&amp;ved=2ahUKEwj5pv--lMOMAxWq2jgGHfg3Dx4Qr4kDegQIAhAC&amp;usg=AOvVaw33AJgHn2bMV6DWu9mRGbwz\"><div class=\"AlD19d\">  <span class=\"qXLe6d x3G5ab\">  <span class=\"fYyStc\">Arijit Singh | Booking...</span>  </span>   <span class=\"qXLe6d F9iS2e\">  <span class=\"fYyStc\">mn2s.com</span>  </span> </div></a></td></tr></table></div></div> </div> </div></td><td class=\"e3goi\" align=\"center\"><div class=\"jjVJ4e\"> <div> <div class=\"lIMUZd\"><div><table class=\"RntSmf\"><tr><td><a href=\"/url?q=https://indianexpress.com/article/entertainment/music/happy-birthday-arijit-singh-road-to-stardom-fame-gurukul-sanjay-leela-bhansali-7886007/&amp;sa=U&amp;ved=2ahUKEwj5pv--lMOMAxWq2jgGHfg3Dx4QqoUBegQIBxAB&amp;usg=AOvVaw398020kePDBx8hkNfLp37F\"><div class=\"kCmkOe\"><img class=\"DS1iW\" alt=\"\" src=\"https://encrypted-tbn0.gstatic.com/images?q=tbn:ANd9GcRTvTWBjoTRu0Rx4PlO4NeirCsnVmWSPkZRq_2rtAe8RSVjQS_VwdxOqi3-VQ&amp;s\"/></div></a></td></tr><tr><td><a href=\"/url?q=https://indianexpress.com/article/entertainment/music/happy-birthday-arijit-singh-road-to-stardom-fame-gurukul-sanjay-leela-bhansali-7886007/&amp;sa=U&amp;ved=2ahUKEwj5pv--lMOMAxWq2jgGHfg3Dx4Qr4kDegQIBxAC&amp;usg=AOvVaw3Xv76PyQtfCufyz2IC4vRg\"><div class=\"AlD19d\">  <span class=\"qXLe6d x3G5ab\">  <span class=\"fYyStc\">Happy Birthday Arijit...</span>  </span>   <span class=\"qXLe6d F9iS2e\">  <span class=\"fYyStc\">indianexpress.com</span>  </span> </div></a></td></tr></table></div></div> </div> </div></td><td class=\"e3goi\" align=\"center\"><div class=\"jjVJ4e\"> <div> <div class=\"lIMUZd\"><div><table class=\"RntSmf\"><tr><td><a href=\"/url?q=http://indiapulse.sulekha.com/event-buzz/arijit-singh-live-in-concert-bay-area-2017_photo_11290_74817&amp;sa=U&amp;ved=2ahUKEwj5pv--lMOMAxWq2jgGHfg3Dx4QqoUBegQIARAB&amp;usg=AOvVaw1VMBCH2l97-6rXRTpsEh5v\"><div class=\"kCmkOe\"><img class=\"DS1iW\" alt=\"\" src=\"https://encrypted-tbn0.gstatic.com/images?q=tbn:ANd9GcS9LsLGJKP0n0OfagB3YCLbQWc7cnrN6yA3YNIsdVkfEOWCnjkS1SKBOOp4SE8&amp;s\"/></div></a></td></tr><tr><td><a href=\"/url?q=http://indiapulse.sulekha.com/event-buzz/arijit-singh-live-in-concert-bay-area-2017_photo_11290_74817&amp;sa=U&amp;ved=2ahUKEwj5pv--lMOMAxWq2jgGHfg3Dx4Qr4kDegQIARAC&amp;usg=AOvVaw1eLsnVLCRHV6vLZzyPQNx4\"><div class=\"AlD19d\">  <span class=\"qXLe6d x3G5ab\">  <span class=\"fYyStc\">Photo 74817 of Arijit Singh...</span>  </span>   <span class=\"qXLe6d F9iS2e\">  <span class=\"fYyStc\">indiapulse.sulekha.com</span>  </span> </div></a></td></tr></table></div></div> </div> </div></td><td class=\"e3goi\" align=\"center\"><div class=\"jjVJ4e\"> <div> <div class=\"lIMUZd\"><div><table class=\"RntSmf\"><tr><td><a href=\"/url?q=https://www.facebook.com/fanofarjt/&amp;sa=U&amp;ved=2ahUKEwj5pv--lMOMAxWq2jgGHfg3Dx4QqoUBegQIBhAB&amp;usg=AOvVaw0k2Klltd5igIfTTWf4tdeL\"><div class=\"kCmkOe\"><img class=\"DS1iW\" alt=\"\" src=\"https://encrypted-tbn0.gstatic.com/images?q=tbn:ANd9GcRomcOzQKwIVV8_-2RqxmfZK2ME6Sg4S_DEIXAOi3xmFr8UDc_eHRdqitiufeQ&amp;s\"/></div></a></td></tr><tr><td><a href=\"/url?q=https://www.facebook.com/fanofarjt/&amp;sa=U&amp;ved=2ahUKEwj5pv--lMOMAxWq2jgGHfg3Dx4Qr4kDegQIBhAC&amp;usg=AOvVaw0rgsWacXK-fajrxtM9BmB6\"><div class=\"AlD19d\">  <span class=\"qXLe6d x3G5ab\">  <span class=\"fYyStc\">Profile for Arijit Singh my...</span>  </span>   <span class=\"qXLe6d F9iS2e\">  <span class=\"fYyStc\">www.facebook.com</span>  </span> </div></a></td></tr></table></div></div> </div> </div></td></tr></table></div><table class=\"uZgmoc\"><tbody><td><a class=\"frGj1b\" href=\"/search?q=Arijit+Singh&amp;sca_esv=601425548&amp;rlz=1C1CHBF_enIN1084IN1084&amp;biw=768&amp;bih=728&amp;ie=UTF-8&amp;tbm=isch&amp;ei=RVLyZ7nwKaq14-EP-O-88AE&amp;start=20&amp;sa=N\">Next&nbsp;&gt;</a></td></tbody></table><br/><div class=\"TuS8Ad\" data-ved=\"0ahUKEwj5pv--lMOMAxWq2jgGHfg3Dx4QpyoIRQ\"><style>.VYM29{font-weight:bold}</style><div class=\"HddGcc\" align=\"center\"><span class=\"VYM29\">Lucknow, Uttar Pradesh</span><span>&nbsp;-&nbsp;</span><span>From your IP address</span><span>&nbsp;-&nbsp;</span><a href=\"/url?q=https://support.google.com/websearch%3Fp%3Dws_settings_location%26hl%3Den-IN&amp;opi=89978449&amp;sa=U&amp;ved=0ahUKEwj5pv--lMOMAxWq2jgGHfg3Dx4Qty4IRg&amp;usg=AOvVaw1bO6GBiET-ygPrkMfO0bgz\">Learn more</a></div><div align=\"center\"><a class=\"rEM8G\" href=\"/url?q=https://accounts.google.com/ServiceLogin%3Fcontinue%3Dhttps://www.google.com/search%253Fsca_esv%253D601425548%2526rlz%253D1C1CHBF_enIN1084IN1084%2526sxsrf%253DACQVn09CSwR4DwKVVecIepHCTvexuk-L0w:1706194995876%2526q%253DArijit%252BSingh%2526tbm%253Disch%2526source%253Dlnms%2526sa%253DX%2526ved%253D2ahUKEwik8pXV5_iDAxVTlK8BHf0gCQIQ0pQJegQIERAB%2526biw%253D768%2526bih%253D728%2526dpr%253D1.25%26hl%3Den&amp;opi=89978449&amp;sa=U&amp;ved=0ahUKEwj5pv--lMOMAxWq2jgGHfg3Dx4Qxs8CCEc&amp;usg=AOvVaw0pN-zHKvnsSbJd-F8ziGE9\">Sign in</a></div><div><table class=\"bookcf\"><tbody class=\"InWNIe\"><tr><td><a class=\"rEM8G\" href=\"https://www.google.com/preferences?hl=en&amp;sa=X&amp;ved=0ahUKEwj5pv--lMOMAxWq2jgGHfg3Dx4Qv5YECEg\">Settings</a></td><td><a class=\"rEM8G\" href=\"https://www.google.com/intl/en_in/policies/privacy/\">Privacy</a></td><td><a class=\"rEM8G\" href=\"https://www.google.com/intl/en_in/policies/terms/\">Terms</a></td></tr></tbody></table></div></div><div>  </div></body></html>'"
      ]
     },
     "execution_count": 17,
     "metadata": {},
     "output_type": "execute_result"
    }
   ],
   "source": [
    "response.content"
   ]
  },
  {
   "cell_type": "code",
   "execution_count": 18,
   "metadata": {},
   "outputs": [],
   "source": [
    "soup = BeautifulSoup(response.content , 'html.parser')"
   ]
  },
  {
   "cell_type": "code",
   "execution_count": 19,
   "metadata": {},
   "outputs": [],
   "source": [
    "images_tag = soup.find_all(\"img\")"
   ]
  },
  {
   "cell_type": "code",
   "execution_count": 20,
   "metadata": {},
   "outputs": [
    {
     "data": {
      "text/plain": [
       "21"
      ]
     },
     "execution_count": 20,
     "metadata": {},
     "output_type": "execute_result"
    }
   ],
   "source": [
    "len(images_tag)"
   ]
  },
  {
   "cell_type": "code",
   "execution_count": 21,
   "metadata": {},
   "outputs": [],
   "source": [
    "del images_tag[0]"
   ]
  },
  {
   "cell_type": "code",
   "execution_count": 22,
   "metadata": {},
   "outputs": [],
   "source": [
    "img_data_mongo = []\n",
    "for i in images_tag:\n",
    "    image_url = i['src']\n",
    "    image_data = requests.get(image_url).content\n",
    "    mydict = {\"index\":image_url , \"image\":image_data}\n",
    "    img_data_mongo.append(mydict)\n",
    "    with open(os.path.join(save_dir,f\"{query}_{images_tag.index(i)}.jpg\"),\"wb\") as f:\n",
    "        f.write(image_data)\n",
    "\n"
   ]
  },
  {
   "cell_type": "code",
   "execution_count": null,
   "metadata": {},
   "outputs": [],
   "source": []
  },
  {
   "cell_type": "code",
   "execution_count": null,
   "metadata": {},
   "outputs": [],
   "source": []
  }
 ],
 "metadata": {
  "kernelspec": {
   "display_name": "Python 3",
   "language": "python",
   "name": "python3"
  },
  "language_info": {
   "codemirror_mode": {
    "name": "ipython",
    "version": 3
   },
   "file_extension": ".py",
   "mimetype": "text/x-python",
   "name": "python",
   "nbconvert_exporter": "python",
   "pygments_lexer": "ipython3",
   "version": "3.12.7"
  }
 },
 "nbformat": 4,
 "nbformat_minor": 2
}
