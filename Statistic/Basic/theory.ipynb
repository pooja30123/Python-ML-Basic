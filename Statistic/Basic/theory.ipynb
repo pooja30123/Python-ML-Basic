{
 "cells": [
  {
   "cell_type": "markdown",
   "metadata": {},
   "source": [
    "# Indroduction to Statistic"
   ]
  },
  {
   "cell_type": "markdown",
   "metadata": {},
   "source": [
    "Def : Statistic is the Science of collection organizing and aalyzing th Data"
   ]
  },
  {
   "cell_type": "markdown",
   "metadata": {},
   "source": [
    "Data : \"fact or picess of information\n",
    "\n",
    "    e.g: Height of Student in classroom\n",
    "         {175cm,180cm,190cm,....}\n",
    "\n",
    "        IQ \n",
    "        {100,90,85,60,...}"
   ]
  },
  {
   "cell_type": "markdown",
   "metadata": {},
   "source": [
    "# Types of Statistics"
   ]
  },
  {
   "cell_type": "markdown",
   "metadata": {},
   "source": [
    "1. Descriptive Statistic\n",
    "\n",
    "      Def :- It consist of organizing and summaring data\n",
    "\n",
    "2. Infercantial Statistics\n",
    "\n",
    "      Def :- It consist of using data you have measure to from conclusion"
   ]
  },
  {
   "cell_type": "markdown",
   "metadata": {},
   "source": []
  }
 ],
 "metadata": {
  "language_info": {
   "name": "python"
  }
 },
 "nbformat": 4,
 "nbformat_minor": 2
}
