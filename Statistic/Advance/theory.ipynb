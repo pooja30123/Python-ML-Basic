{
 "cells": [
  {
   "cell_type": "markdown",
   "metadata": {},
   "source": [
    "# Probability Distrution Function"
   ]
  },
  {
   "cell_type": "markdown",
   "metadata": {},
   "source": [
    "1. Probability DensityFunction (PDF)\n",
    "\n",
    "2. Probability Mass Function (PMF)\n",
    "\n",
    "3. Cumulative Distrubution Function (CDF)"
   ]
  },
  {
   "cell_type": "markdown",
   "metadata": {},
   "source": [
    "2. Probability Mass Function (PMF)\n",
    "\n",
    "   i) Discrete Random Variable\n",
    "\n",
    "       e.g.  Rolling a dice \n",
    "   \n",
    "        {1,2,3,4,5,6}  \n",
    "        Pr(1) = 1/6\n",
    "        Pr(2) = 1/6"
   ]
  },
  {
   "cell_type": "markdown",
   "metadata": {},
   "source": []
  }
 ],
 "metadata": {
  "language_info": {
   "name": "python"
  }
 },
 "nbformat": 4,
 "nbformat_minor": 2
}
