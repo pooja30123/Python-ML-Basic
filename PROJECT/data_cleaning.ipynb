{
 "cells": [
  {
   "cell_type": "code",
   "execution_count": 2,
   "metadata": {},
   "outputs": [],
   "source": [
    "import pandas as pd"
   ]
  },
  {
   "cell_type": "code",
   "execution_count": 3,
   "metadata": {},
   "outputs": [
    {
     "name": "stderr",
     "output_type": "stream",
     "text": [
      "<>:1: SyntaxWarning: invalid escape sequence '\\C'\n",
      "<>:1: SyntaxWarning: invalid escape sequence '\\C'\n",
      "C:\\Users\\POOJA\\AppData\\Local\\Temp\\ipykernel_24176\\2984551966.py:1: SyntaxWarning: invalid escape sequence '\\C'\n",
      "  df=pd.read_csv('C:\\Codding\\Data Science\\PROJECT\\Data_ML_project.csv')\n"
     ]
    }
   ],
   "source": [
    "df=pd.read_csv('C:\\Codding\\Data Science\\PROJECT\\Data_ML_project.csv')"
   ]
  },
  {
   "cell_type": "code",
   "execution_count": 4,
   "metadata": {},
   "outputs": [
    {
     "data": {
      "text/html": [
       "<div>\n",
       "<style scoped>\n",
       "    .dataframe tbody tr th:only-of-type {\n",
       "        vertical-align: middle;\n",
       "    }\n",
       "\n",
       "    .dataframe tbody tr th {\n",
       "        vertical-align: top;\n",
       "    }\n",
       "\n",
       "    .dataframe thead th {\n",
       "        text-align: right;\n",
       "    }\n",
       "</style>\n",
       "<table border=\"1\" class=\"dataframe\">\n",
       "  <thead>\n",
       "    <tr style=\"text-align: right;\">\n",
       "      <th></th>\n",
       "      <th>Course Name</th>\n",
       "      <th>University</th>\n",
       "      <th>Aptitude Score</th>\n",
       "      <th>Family_Income</th>\n",
       "      <th>Parental_Education_Level</th>\n",
       "      <th>Previous Score</th>\n",
       "      <th>Extracurricular activity</th>\n",
       "      <th>Difficulty Level</th>\n",
       "      <th>Course rating</th>\n",
       "    </tr>\n",
       "  </thead>\n",
       "  <tbody>\n",
       "    <tr>\n",
       "      <th>0</th>\n",
       "      <td>Acing the Product Management Interview</td>\n",
       "      <td>Advancing Women in Product</td>\n",
       "      <td>71</td>\n",
       "      <td>High</td>\n",
       "      <td>High School</td>\n",
       "      <td>69</td>\n",
       "      <td>Yes</td>\n",
       "      <td>Advanced</td>\n",
       "      <td>5</td>\n",
       "    </tr>\n",
       "    <tr>\n",
       "      <th>1</th>\n",
       "      <td>The Business of Product Management I</td>\n",
       "      <td>Advancing Women in Product</td>\n",
       "      <td>75</td>\n",
       "      <td>Low</td>\n",
       "      <td>College</td>\n",
       "      <td>65</td>\n",
       "      <td>Yes</td>\n",
       "      <td>Advanced</td>\n",
       "      <td>4.8</td>\n",
       "    </tr>\n",
       "    <tr>\n",
       "      <th>2</th>\n",
       "      <td>The Art &amp; Science of Product Management</td>\n",
       "      <td>Advancing Women in Product</td>\n",
       "      <td>62</td>\n",
       "      <td>Medium</td>\n",
       "      <td>High School</td>\n",
       "      <td>63</td>\n",
       "      <td>No</td>\n",
       "      <td>Beginner</td>\n",
       "      <td>5</td>\n",
       "    </tr>\n",
       "    <tr>\n",
       "      <th>3</th>\n",
       "      <td>Machine Learning Algorithms: Supervised Learni...</td>\n",
       "      <td>Alberta Machine Intelligence Institute</td>\n",
       "      <td>73</td>\n",
       "      <td>Low</td>\n",
       "      <td>College</td>\n",
       "      <td>66</td>\n",
       "      <td>No</td>\n",
       "      <td>Intermediate</td>\n",
       "      <td>4.7</td>\n",
       "    </tr>\n",
       "    <tr>\n",
       "      <th>4</th>\n",
       "      <td>Data for Machine Learning</td>\n",
       "      <td>Alberta Machine Intelligence Institute</td>\n",
       "      <td>76</td>\n",
       "      <td>Low</td>\n",
       "      <td>Postgraduate</td>\n",
       "      <td>65</td>\n",
       "      <td>No</td>\n",
       "      <td>Beginner</td>\n",
       "      <td>4.4</td>\n",
       "    </tr>\n",
       "    <tr>\n",
       "      <th>...</th>\n",
       "      <td>...</td>\n",
       "      <td>...</td>\n",
       "      <td>...</td>\n",
       "      <td>...</td>\n",
       "      <td>...</td>\n",
       "      <td>...</td>\n",
       "      <td>...</td>\n",
       "      <td>...</td>\n",
       "      <td>...</td>\n",
       "    </tr>\n",
       "    <tr>\n",
       "      <th>3448</th>\n",
       "      <td>Understanding Korean Politics</td>\n",
       "      <td>Yonsei University</td>\n",
       "      <td>63</td>\n",
       "      <td>High</td>\n",
       "      <td>College</td>\n",
       "      <td>72</td>\n",
       "      <td>Yes</td>\n",
       "      <td>Intermediate</td>\n",
       "      <td>4.8</td>\n",
       "    </tr>\n",
       "    <tr>\n",
       "      <th>3449</th>\n",
       "      <td>International Marketing &amp; Cross Industry Growt...</td>\n",
       "      <td>Yonsei University</td>\n",
       "      <td>63</td>\n",
       "      <td>Low</td>\n",
       "      <td>College</td>\n",
       "      <td>64</td>\n",
       "      <td>No</td>\n",
       "      <td>Beginner</td>\n",
       "      <td>4.6</td>\n",
       "    </tr>\n",
       "    <tr>\n",
       "      <th>3450</th>\n",
       "      <td>Gender, Family, and Social Change in Contempor...</td>\n",
       "      <td>Yonsei University</td>\n",
       "      <td>94</td>\n",
       "      <td>Medium</td>\n",
       "      <td>High School</td>\n",
       "      <td>70</td>\n",
       "      <td>Yes</td>\n",
       "      <td>Intermediate</td>\n",
       "      <td>4.7</td>\n",
       "    </tr>\n",
       "    <tr>\n",
       "      <th>3451</th>\n",
       "      <td>Deep Learning for Business</td>\n",
       "      <td>Yonsei University</td>\n",
       "      <td>79</td>\n",
       "      <td>Medium</td>\n",
       "      <td>College</td>\n",
       "      <td>69</td>\n",
       "      <td>Yes</td>\n",
       "      <td>Beginner</td>\n",
       "      <td>4.3</td>\n",
       "    </tr>\n",
       "    <tr>\n",
       "      <th>3452</th>\n",
       "      <td>Re-imaging God in Korean Context</td>\n",
       "      <td>Yonsei University</td>\n",
       "      <td>87</td>\n",
       "      <td>Medium</td>\n",
       "      <td>Postgraduate</td>\n",
       "      <td>68</td>\n",
       "      <td>Yes</td>\n",
       "      <td>Intermediate</td>\n",
       "      <td>4.7</td>\n",
       "    </tr>\n",
       "  </tbody>\n",
       "</table>\n",
       "<p>3453 rows × 9 columns</p>\n",
       "</div>"
      ],
      "text/plain": [
       "                                            Course Name  \\\n",
       "0                Acing the Product Management Interview   \n",
       "1                  The Business of Product Management I   \n",
       "2               The Art & Science of Product Management   \n",
       "3     Machine Learning Algorithms: Supervised Learni...   \n",
       "4                             Data for Machine Learning   \n",
       "...                                                 ...   \n",
       "3448                      Understanding Korean Politics   \n",
       "3449  International Marketing & Cross Industry Growt...   \n",
       "3450  Gender, Family, and Social Change in Contempor...   \n",
       "3451                         Deep Learning for Business   \n",
       "3452                   Re-imaging God in Korean Context   \n",
       "\n",
       "                                  University Aptitude Score Family_Income  \\\n",
       "0                 Advancing Women in Product             71          High   \n",
       "1                 Advancing Women in Product             75           Low   \n",
       "2                 Advancing Women in Product             62        Medium   \n",
       "3     Alberta Machine Intelligence Institute             73           Low   \n",
       "4     Alberta Machine Intelligence Institute             76           Low   \n",
       "...                                      ...            ...           ...   \n",
       "3448                       Yonsei University             63          High   \n",
       "3449                       Yonsei University             63           Low   \n",
       "3450                       Yonsei University             94        Medium   \n",
       "3451                       Yonsei University             79        Medium   \n",
       "3452                       Yonsei University             87        Medium   \n",
       "\n",
       "     Parental_Education_Level Previous Score Extracurricular activity  \\\n",
       "0                 High School             69                      Yes   \n",
       "1                     College             65                      Yes   \n",
       "2                 High School             63                       No   \n",
       "3                     College             66                       No   \n",
       "4                Postgraduate             65                       No   \n",
       "...                       ...            ...                      ...   \n",
       "3448                  College             72                      Yes   \n",
       "3449                  College             64                       No   \n",
       "3450              High School             70                      Yes   \n",
       "3451                  College             69                      Yes   \n",
       "3452             Postgraduate             68                      Yes   \n",
       "\n",
       "     Difficulty Level Course rating  \n",
       "0            Advanced             5  \n",
       "1            Advanced           4.8  \n",
       "2            Beginner             5  \n",
       "3        Intermediate           4.7  \n",
       "4            Beginner           4.4  \n",
       "...               ...           ...  \n",
       "3448     Intermediate           4.8  \n",
       "3449         Beginner           4.6  \n",
       "3450     Intermediate           4.7  \n",
       "3451         Beginner           4.3  \n",
       "3452     Intermediate           4.7  \n",
       "\n",
       "[3453 rows x 9 columns]"
      ]
     },
     "execution_count": 4,
     "metadata": {},
     "output_type": "execute_result"
    }
   ],
   "source": [
    "df"
   ]
  },
  {
   "cell_type": "code",
   "execution_count": 5,
   "metadata": {},
   "outputs": [
    {
     "data": {
      "text/plain": [
       "Parental_Education_Level\n",
       "High School                 1721\n",
       "College                     1053\n",
       "Postgraduate                 672\n",
       "High school                    1\n",
       "Parental_Education_Level       1\n",
       "Name: count, dtype: int64"
      ]
     },
     "execution_count": 5,
     "metadata": {},
     "output_type": "execute_result"
    }
   ],
   "source": [
    "df['Parental_Education_Level'].value_counts()"
   ]
  },
  {
   "cell_type": "code",
   "execution_count": 6,
   "metadata": {},
   "outputs": [
    {
     "name": "stdout",
     "output_type": "stream",
     "text": [
      "0        High School\n",
      "1            College\n",
      "2        High School\n",
      "3            College\n",
      "4       Postgraduate\n",
      "            ...     \n",
      "3448         College\n",
      "3449         College\n",
      "3450     High School\n",
      "3451         College\n",
      "3452    Postgraduate\n",
      "Name: Parental_Education_Level, Length: 3453, dtype: object\n"
     ]
    }
   ],
   "source": [
    "print(df['Parental_Education_Level'])"
   ]
  },
  {
   "cell_type": "code",
   "execution_count": 7,
   "metadata": {},
   "outputs": [],
   "source": [
    "df['Parental_Education_Level'] = df['Parental_Education_Level'].replace('High school', 'High School')"
   ]
  },
  {
   "cell_type": "code",
   "execution_count": 8,
   "metadata": {},
   "outputs": [
    {
     "data": {
      "text/plain": [
       "Parental_Education_Level\n",
       "High School                 1722\n",
       "College                     1053\n",
       "Postgraduate                 672\n",
       "Parental_Education_Level       1\n",
       "Name: count, dtype: int64"
      ]
     },
     "execution_count": 8,
     "metadata": {},
     "output_type": "execute_result"
    }
   ],
   "source": [
    "df['Parental_Education_Level'].value_counts()"
   ]
  },
  {
   "cell_type": "code",
   "execution_count": 9,
   "metadata": {},
   "outputs": [],
   "source": [
    "import random\n",
    "\n",
    "income_ranges = {\n",
    "    'Low': (55, 63),\n",
    "    'Medium': (70, 80),\n",
    "    'High': (81, 93),\n",
    "}\n",
    "education_level = {\n",
    "    'College': (55, 63),    \n",
    "    'High School': (70, 80),\n",
    "    'Postgraduate': (81, 93),\n",
    "}\n",
    "difficulty_level = {\n",
    "    'Beginner':\t(57,62),\n",
    "    'Advanced'\t:(88,97),\n",
    "    'Intermediate':(67,75),\n",
    "    'Conversant':\t(78,85),\n",
    "    'Not Calibrated':\t(50,56)\n",
    "}\n",
    "\n",
    "def get_random_from_range(category, ranges): # Added ranges as an argument\n",
    "    if category in ranges:\n",
    "        Low, High = ranges[category]\n",
    "        return random.randint(Low, High)\n",
    "    return None\n",
    "\n",
    "df['Education_Num'] = df['Parental_Education_Level'].apply(lambda x: get_random_from_range(x, education_level)) \n",
    "df['Income_Level_Num'] = df['Family_Income'].apply(lambda x: get_random_from_range(x, income_ranges))\n",
    "df['Difficulty_level_Num'] = df['Difficulty Level'].apply(lambda x: get_random_from_range(x, difficulty_level))\n"
   ]
  },
  {
   "cell_type": "code",
   "execution_count": 10,
   "metadata": {},
   "outputs": [
    {
     "data": {
      "text/html": [
       "<div>\n",
       "<style scoped>\n",
       "    .dataframe tbody tr th:only-of-type {\n",
       "        vertical-align: middle;\n",
       "    }\n",
       "\n",
       "    .dataframe tbody tr th {\n",
       "        vertical-align: top;\n",
       "    }\n",
       "\n",
       "    .dataframe thead th {\n",
       "        text-align: right;\n",
       "    }\n",
       "</style>\n",
       "<table border=\"1\" class=\"dataframe\">\n",
       "  <thead>\n",
       "    <tr style=\"text-align: right;\">\n",
       "      <th></th>\n",
       "      <th>Course Name</th>\n",
       "      <th>University</th>\n",
       "      <th>Aptitude Score</th>\n",
       "      <th>Family_Income</th>\n",
       "      <th>Parental_Education_Level</th>\n",
       "      <th>Previous Score</th>\n",
       "      <th>Extracurricular activity</th>\n",
       "      <th>Difficulty Level</th>\n",
       "      <th>Course rating</th>\n",
       "      <th>Education_Num</th>\n",
       "      <th>Income_Level_Num</th>\n",
       "      <th>Difficulty_level_Num</th>\n",
       "    </tr>\n",
       "  </thead>\n",
       "  <tbody>\n",
       "    <tr>\n",
       "      <th>0</th>\n",
       "      <td>Acing the Product Management Interview</td>\n",
       "      <td>Advancing Women in Product</td>\n",
       "      <td>71</td>\n",
       "      <td>High</td>\n",
       "      <td>High School</td>\n",
       "      <td>69</td>\n",
       "      <td>Yes</td>\n",
       "      <td>Advanced</td>\n",
       "      <td>5</td>\n",
       "      <td>71.0</td>\n",
       "      <td>87.0</td>\n",
       "      <td>97.0</td>\n",
       "    </tr>\n",
       "    <tr>\n",
       "      <th>1</th>\n",
       "      <td>The Business of Product Management I</td>\n",
       "      <td>Advancing Women in Product</td>\n",
       "      <td>75</td>\n",
       "      <td>Low</td>\n",
       "      <td>College</td>\n",
       "      <td>65</td>\n",
       "      <td>Yes</td>\n",
       "      <td>Advanced</td>\n",
       "      <td>4.8</td>\n",
       "      <td>57.0</td>\n",
       "      <td>58.0</td>\n",
       "      <td>92.0</td>\n",
       "    </tr>\n",
       "    <tr>\n",
       "      <th>2</th>\n",
       "      <td>The Art &amp; Science of Product Management</td>\n",
       "      <td>Advancing Women in Product</td>\n",
       "      <td>62</td>\n",
       "      <td>Medium</td>\n",
       "      <td>High School</td>\n",
       "      <td>63</td>\n",
       "      <td>No</td>\n",
       "      <td>Beginner</td>\n",
       "      <td>5</td>\n",
       "      <td>76.0</td>\n",
       "      <td>71.0</td>\n",
       "      <td>58.0</td>\n",
       "    </tr>\n",
       "    <tr>\n",
       "      <th>3</th>\n",
       "      <td>Machine Learning Algorithms: Supervised Learni...</td>\n",
       "      <td>Alberta Machine Intelligence Institute</td>\n",
       "      <td>73</td>\n",
       "      <td>Low</td>\n",
       "      <td>College</td>\n",
       "      <td>66</td>\n",
       "      <td>No</td>\n",
       "      <td>Intermediate</td>\n",
       "      <td>4.7</td>\n",
       "      <td>59.0</td>\n",
       "      <td>59.0</td>\n",
       "      <td>75.0</td>\n",
       "    </tr>\n",
       "    <tr>\n",
       "      <th>4</th>\n",
       "      <td>Data for Machine Learning</td>\n",
       "      <td>Alberta Machine Intelligence Institute</td>\n",
       "      <td>76</td>\n",
       "      <td>Low</td>\n",
       "      <td>Postgraduate</td>\n",
       "      <td>65</td>\n",
       "      <td>No</td>\n",
       "      <td>Beginner</td>\n",
       "      <td>4.4</td>\n",
       "      <td>87.0</td>\n",
       "      <td>57.0</td>\n",
       "      <td>57.0</td>\n",
       "    </tr>\n",
       "  </tbody>\n",
       "</table>\n",
       "</div>"
      ],
      "text/plain": [
       "                                         Course Name  \\\n",
       "0             Acing the Product Management Interview   \n",
       "1               The Business of Product Management I   \n",
       "2            The Art & Science of Product Management   \n",
       "3  Machine Learning Algorithms: Supervised Learni...   \n",
       "4                          Data for Machine Learning   \n",
       "\n",
       "                               University Aptitude Score Family_Income  \\\n",
       "0              Advancing Women in Product             71          High   \n",
       "1              Advancing Women in Product             75           Low   \n",
       "2              Advancing Women in Product             62        Medium   \n",
       "3  Alberta Machine Intelligence Institute             73           Low   \n",
       "4  Alberta Machine Intelligence Institute             76           Low   \n",
       "\n",
       "  Parental_Education_Level Previous Score Extracurricular activity  \\\n",
       "0              High School             69                      Yes   \n",
       "1                  College             65                      Yes   \n",
       "2              High School             63                       No   \n",
       "3                  College             66                       No   \n",
       "4             Postgraduate             65                       No   \n",
       "\n",
       "  Difficulty Level Course rating  Education_Num  Income_Level_Num  \\\n",
       "0         Advanced             5           71.0              87.0   \n",
       "1         Advanced           4.8           57.0              58.0   \n",
       "2         Beginner             5           76.0              71.0   \n",
       "3     Intermediate           4.7           59.0              59.0   \n",
       "4         Beginner           4.4           87.0              57.0   \n",
       "\n",
       "   Difficulty_level_Num  \n",
       "0                  97.0  \n",
       "1                  92.0  \n",
       "2                  58.0  \n",
       "3                  75.0  \n",
       "4                  57.0  "
      ]
     },
     "execution_count": 10,
     "metadata": {},
     "output_type": "execute_result"
    }
   ],
   "source": [
    "df.head()"
   ]
  },
  {
   "cell_type": "code",
   "execution_count": 11,
   "metadata": {},
   "outputs": [
    {
     "data": {
      "text/plain": [
       "Index(['Course Name', 'University', 'Aptitude Score', 'Family_Income',\n",
       "       'Parental_Education_Level', 'Previous Score',\n",
       "       'Extracurricular activity', 'Difficulty Level', 'Course rating',\n",
       "       'Education_Num', 'Income_Level_Num', 'Difficulty_level_Num'],\n",
       "      dtype='object')"
      ]
     },
     "execution_count": 11,
     "metadata": {},
     "output_type": "execute_result"
    }
   ],
   "source": [
    "df.columns"
   ]
  },
  {
   "cell_type": "code",
   "execution_count": 12,
   "metadata": {},
   "outputs": [],
   "source": [
    "df=df.drop(columns=[ 'Family_Income',\n",
    "       'Parental_Education_Level','Difficulty Level'])"
   ]
  },
  {
   "cell_type": "code",
   "execution_count": 13,
   "metadata": {},
   "outputs": [
    {
     "data": {
      "text/html": [
       "<div>\n",
       "<style scoped>\n",
       "    .dataframe tbody tr th:only-of-type {\n",
       "        vertical-align: middle;\n",
       "    }\n",
       "\n",
       "    .dataframe tbody tr th {\n",
       "        vertical-align: top;\n",
       "    }\n",
       "\n",
       "    .dataframe thead th {\n",
       "        text-align: right;\n",
       "    }\n",
       "</style>\n",
       "<table border=\"1\" class=\"dataframe\">\n",
       "  <thead>\n",
       "    <tr style=\"text-align: right;\">\n",
       "      <th></th>\n",
       "      <th>Course Name</th>\n",
       "      <th>University</th>\n",
       "      <th>Aptitude Score</th>\n",
       "      <th>Previous Score</th>\n",
       "      <th>Extracurricular activity</th>\n",
       "      <th>Course rating</th>\n",
       "      <th>Education_Num</th>\n",
       "      <th>Income_Level_Num</th>\n",
       "      <th>Difficulty_level_Num</th>\n",
       "    </tr>\n",
       "  </thead>\n",
       "  <tbody>\n",
       "    <tr>\n",
       "      <th>0</th>\n",
       "      <td>Acing the Product Management Interview</td>\n",
       "      <td>Advancing Women in Product</td>\n",
       "      <td>71</td>\n",
       "      <td>69</td>\n",
       "      <td>Yes</td>\n",
       "      <td>5</td>\n",
       "      <td>71.0</td>\n",
       "      <td>87.0</td>\n",
       "      <td>97.0</td>\n",
       "    </tr>\n",
       "    <tr>\n",
       "      <th>1</th>\n",
       "      <td>The Business of Product Management I</td>\n",
       "      <td>Advancing Women in Product</td>\n",
       "      <td>75</td>\n",
       "      <td>65</td>\n",
       "      <td>Yes</td>\n",
       "      <td>4.8</td>\n",
       "      <td>57.0</td>\n",
       "      <td>58.0</td>\n",
       "      <td>92.0</td>\n",
       "    </tr>\n",
       "    <tr>\n",
       "      <th>2</th>\n",
       "      <td>The Art &amp; Science of Product Management</td>\n",
       "      <td>Advancing Women in Product</td>\n",
       "      <td>62</td>\n",
       "      <td>63</td>\n",
       "      <td>No</td>\n",
       "      <td>5</td>\n",
       "      <td>76.0</td>\n",
       "      <td>71.0</td>\n",
       "      <td>58.0</td>\n",
       "    </tr>\n",
       "    <tr>\n",
       "      <th>3</th>\n",
       "      <td>Machine Learning Algorithms: Supervised Learni...</td>\n",
       "      <td>Alberta Machine Intelligence Institute</td>\n",
       "      <td>73</td>\n",
       "      <td>66</td>\n",
       "      <td>No</td>\n",
       "      <td>4.7</td>\n",
       "      <td>59.0</td>\n",
       "      <td>59.0</td>\n",
       "      <td>75.0</td>\n",
       "    </tr>\n",
       "    <tr>\n",
       "      <th>4</th>\n",
       "      <td>Data for Machine Learning</td>\n",
       "      <td>Alberta Machine Intelligence Institute</td>\n",
       "      <td>76</td>\n",
       "      <td>65</td>\n",
       "      <td>No</td>\n",
       "      <td>4.4</td>\n",
       "      <td>87.0</td>\n",
       "      <td>57.0</td>\n",
       "      <td>57.0</td>\n",
       "    </tr>\n",
       "  </tbody>\n",
       "</table>\n",
       "</div>"
      ],
      "text/plain": [
       "                                         Course Name  \\\n",
       "0             Acing the Product Management Interview   \n",
       "1               The Business of Product Management I   \n",
       "2            The Art & Science of Product Management   \n",
       "3  Machine Learning Algorithms: Supervised Learni...   \n",
       "4                          Data for Machine Learning   \n",
       "\n",
       "                               University Aptitude Score Previous Score  \\\n",
       "0              Advancing Women in Product             71             69   \n",
       "1              Advancing Women in Product             75             65   \n",
       "2              Advancing Women in Product             62             63   \n",
       "3  Alberta Machine Intelligence Institute             73             66   \n",
       "4  Alberta Machine Intelligence Institute             76             65   \n",
       "\n",
       "  Extracurricular activity Course rating  Education_Num  Income_Level_Num  \\\n",
       "0                      Yes             5           71.0              87.0   \n",
       "1                      Yes           4.8           57.0              58.0   \n",
       "2                       No             5           76.0              71.0   \n",
       "3                       No           4.7           59.0              59.0   \n",
       "4                       No           4.4           87.0              57.0   \n",
       "\n",
       "   Difficulty_level_Num  \n",
       "0                  97.0  \n",
       "1                  92.0  \n",
       "2                  58.0  \n",
       "3                  75.0  \n",
       "4                  57.0  "
      ]
     },
     "execution_count": 13,
     "metadata": {},
     "output_type": "execute_result"
    }
   ],
   "source": [
    "df.head()"
   ]
  },
  {
   "cell_type": "code",
   "execution_count": 14,
   "metadata": {},
   "outputs": [
    {
     "data": {
      "text/plain": [
       "Course Name                 0\n",
       "University                  0\n",
       "Aptitude Score              0\n",
       "Previous Score              0\n",
       "Extracurricular activity    0\n",
       "Course rating               0\n",
       "Education_Num               6\n",
       "Income_Level_Num            1\n",
       "Difficulty_level_Num        1\n",
       "dtype: int64"
      ]
     },
     "execution_count": 14,
     "metadata": {},
     "output_type": "execute_result"
    }
   ],
   "source": [
    "df.isna().sum()"
   ]
  },
  {
   "cell_type": "code",
   "execution_count": 15,
   "metadata": {},
   "outputs": [],
   "source": [
    "numeric_cols = df.select_dtypes(include=['float64', 'int64']).columns\n",
    "df[numeric_cols] = df[numeric_cols].fillna(df[numeric_cols].mean())"
   ]
  },
  {
   "cell_type": "code",
   "execution_count": 16,
   "metadata": {},
   "outputs": [
    {
     "data": {
      "text/plain": [
       "Course Name                 0\n",
       "University                  0\n",
       "Aptitude Score              0\n",
       "Previous Score              0\n",
       "Extracurricular activity    0\n",
       "Course rating               0\n",
       "Education_Num               0\n",
       "Income_Level_Num            0\n",
       "Difficulty_level_Num        0\n",
       "dtype: int64"
      ]
     },
     "execution_count": 16,
     "metadata": {},
     "output_type": "execute_result"
    }
   ],
   "source": [
    "df.isna().sum()"
   ]
  },
  {
   "cell_type": "code",
   "execution_count": 17,
   "metadata": {},
   "outputs": [
    {
     "name": "stdout",
     "output_type": "stream",
     "text": [
      "<class 'pandas.core.frame.DataFrame'>\n",
      "RangeIndex: 3453 entries, 0 to 3452\n",
      "Data columns (total 9 columns):\n",
      " #   Column                    Non-Null Count  Dtype  \n",
      "---  ------                    --------------  -----  \n",
      " 0   Course Name               3453 non-null   object \n",
      " 1   University                3453 non-null   object \n",
      " 2   Aptitude Score            3453 non-null   object \n",
      " 3   Previous Score            3453 non-null   object \n",
      " 4   Extracurricular activity  3453 non-null   object \n",
      " 5   Course rating             3453 non-null   object \n",
      " 6   Education_Num             3453 non-null   float64\n",
      " 7   Income_Level_Num          3453 non-null   float64\n",
      " 8   Difficulty_level_Num      3453 non-null   float64\n",
      "dtypes: float64(3), object(6)\n",
      "memory usage: 242.9+ KB\n"
     ]
    }
   ],
   "source": [
    "df.info()"
   ]
  },
  {
   "cell_type": "code",
   "execution_count": 18,
   "metadata": {},
   "outputs": [
    {
     "data": {
      "text/plain": [
       "array(['5', '4.8', '4.7', '4.4', '4.5', '4.9', '4', '4.6', '4.3', '3.7',\n",
       "       'Not Calibrated', '4.2', '4.1', '3.6', '2.9', '3.5', '3.1', '3.9',\n",
       "       '3.2', '3.8', '3', '3.4', '2.6', '1.9', '2.4', '2.8', '2.5', '3.3',\n",
       "       '2', '1', '2.3', 'Course Rating'], dtype=object)"
      ]
     },
     "execution_count": 18,
     "metadata": {},
     "output_type": "execute_result"
    }
   ],
   "source": [
    "df['Course rating'].unique()"
   ]
  },
  {
   "cell_type": "code",
   "execution_count": 19,
   "metadata": {},
   "outputs": [],
   "source": [
    "df['Course rating'] = df['Course rating'].replace('Not Calibrated', 4.5)"
   ]
  },
  {
   "cell_type": "code",
   "execution_count": 20,
   "metadata": {},
   "outputs": [],
   "source": [
    "df['Course rating'] = df['Course rating'].replace('Course Rating', 4.5)"
   ]
  },
  {
   "cell_type": "code",
   "execution_count": 21,
   "metadata": {},
   "outputs": [
    {
     "data": {
      "text/plain": [
       "array(['5', '4.8', '4.7', '4.4', '4.5', '4.9', '4', '4.6', '4.3', '3.7',\n",
       "       4.5, '4.2', '4.1', '3.6', '2.9', '3.5', '3.1', '3.9', '3.2', '3.8',\n",
       "       '3', '3.4', '2.6', '1.9', '2.4', '2.8', '2.5', '3.3', '2', '1',\n",
       "       '2.3'], dtype=object)"
      ]
     },
     "execution_count": 21,
     "metadata": {},
     "output_type": "execute_result"
    }
   ],
   "source": [
    "df['Course rating'].unique()"
   ]
  },
  {
   "cell_type": "code",
   "execution_count": 22,
   "metadata": {},
   "outputs": [
    {
     "data": {
      "text/plain": [
       "array(['69', '65', '63', '66', '67', '61', '60', '64', '68', '72', '74',\n",
       "       '62', '71', '75', '70', '73', '82', '86', '99', '76', '79', '59',\n",
       "       '84', '58', '77', '88', '80', '78', '57', '94', '101', '87', '96',\n",
       "       '97', '89', '91', '55', '92', '100', 'Apptitude', '83'],\n",
       "      dtype=object)"
      ]
     },
     "execution_count": 22,
     "metadata": {},
     "output_type": "execute_result"
    }
   ],
   "source": [
    "df['Previous Score'].unique()"
   ]
  },
  {
   "cell_type": "code",
   "execution_count": 23,
   "metadata": {},
   "outputs": [],
   "source": [
    "df['Previous Score'] = df['Previous Score'].replace('Apptitude', 64)"
   ]
  },
  {
   "cell_type": "code",
   "execution_count": 24,
   "metadata": {},
   "outputs": [
    {
     "data": {
      "text/plain": [
       "array(['69', '65', '63', '66', '67', '61', '60', '64', '68', '72', '74',\n",
       "       '62', '71', '75', '70', '73', '82', '86', '99', '76', '79', '59',\n",
       "       '84', '58', '77', '88', '80', '78', '57', '94', '101', '87', '96',\n",
       "       '97', '89', '91', '55', '92', '100', 64, '83'], dtype=object)"
      ]
     },
     "execution_count": 24,
     "metadata": {},
     "output_type": "execute_result"
    }
   ],
   "source": [
    "df['Previous Score'].unique()"
   ]
  },
  {
   "cell_type": "code",
   "execution_count": 25,
   "metadata": {},
   "outputs": [
    {
     "data": {
      "text/plain": [
       "array(['71', '75', '62', '73', '76', '81', '54', '68', '87', '95', '60',\n",
       "       '56', '53', '52', '89', '72', '57', '59', '74', '90', '66', '82',\n",
       "       '85', '83', '93', '78', '96', '80', '79', '94', '86', '63', '88',\n",
       "       '99', '64', '77', '92', '97', '84', '91', '58', '70', '65', '67',\n",
       "       '61', '50', '69', '51', '98', '55', '100', 'Previous_Scores'],\n",
       "      dtype=object)"
      ]
     },
     "execution_count": 25,
     "metadata": {},
     "output_type": "execute_result"
    }
   ],
   "source": [
    "df['Aptitude Score'].unique()"
   ]
  },
  {
   "cell_type": "code",
   "execution_count": 26,
   "metadata": {},
   "outputs": [],
   "source": [
    "df['Aptitude Score']=df['Aptitude Score'].replace('Previous_Scores',80)"
   ]
  },
  {
   "cell_type": "code",
   "execution_count": 27,
   "metadata": {},
   "outputs": [],
   "source": [
    "columns_to_convert = ['Aptitude Score', 'Previous Score','Course rating']\n",
    "df[columns_to_convert] = df[columns_to_convert].astype(float)\n"
   ]
  },
  {
   "cell_type": "code",
   "execution_count": 28,
   "metadata": {},
   "outputs": [
    {
     "name": "stdout",
     "output_type": "stream",
     "text": [
      "<class 'pandas.core.frame.DataFrame'>\n",
      "RangeIndex: 3453 entries, 0 to 3452\n",
      "Data columns (total 9 columns):\n",
      " #   Column                    Non-Null Count  Dtype  \n",
      "---  ------                    --------------  -----  \n",
      " 0   Course Name               3453 non-null   object \n",
      " 1   University                3453 non-null   object \n",
      " 2   Aptitude Score            3453 non-null   float64\n",
      " 3   Previous Score            3453 non-null   float64\n",
      " 4   Extracurricular activity  3453 non-null   object \n",
      " 5   Course rating             3453 non-null   float64\n",
      " 6   Education_Num             3453 non-null   float64\n",
      " 7   Income_Level_Num          3453 non-null   float64\n",
      " 8   Difficulty_level_Num      3453 non-null   float64\n",
      "dtypes: float64(6), object(3)\n",
      "memory usage: 242.9+ KB\n"
     ]
    }
   ],
   "source": [
    "df.info()"
   ]
  },
  {
   "cell_type": "code",
   "execution_count": 29,
   "metadata": {},
   "outputs": [],
   "source": [
    "df.to_csv('Cleaned_ML_Dataset.csv')"
   ]
  },
  {
   "cell_type": "code",
   "execution_count": 30,
   "metadata": {},
   "outputs": [
    {
     "name": "stderr",
     "output_type": "stream",
     "text": [
      "<>:1: SyntaxWarning: invalid escape sequence '\\C'\n",
      "<>:1: SyntaxWarning: invalid escape sequence '\\C'\n",
      "C:\\Users\\POOJA\\AppData\\Local\\Temp\\ipykernel_24176\\2723885497.py:1: SyntaxWarning: invalid escape sequence '\\C'\n",
      "  data=pd.read_csv('C:\\Codding\\Data Science\\PROJECT\\Cleaned_ML_Dataset.csv')\n"
     ]
    }
   ],
   "source": [
    "data=pd.read_csv('C:\\Codding\\Data Science\\PROJECT\\Cleaned_ML_Dataset.csv')"
   ]
  },
  {
   "cell_type": "code",
   "execution_count": 31,
   "metadata": {},
   "outputs": [
    {
     "data": {
      "text/html": [
       "<div>\n",
       "<style scoped>\n",
       "    .dataframe tbody tr th:only-of-type {\n",
       "        vertical-align: middle;\n",
       "    }\n",
       "\n",
       "    .dataframe tbody tr th {\n",
       "        vertical-align: top;\n",
       "    }\n",
       "\n",
       "    .dataframe thead th {\n",
       "        text-align: right;\n",
       "    }\n",
       "</style>\n",
       "<table border=\"1\" class=\"dataframe\">\n",
       "  <thead>\n",
       "    <tr style=\"text-align: right;\">\n",
       "      <th></th>\n",
       "      <th>Unnamed: 0</th>\n",
       "      <th>Course Name</th>\n",
       "      <th>University</th>\n",
       "      <th>Aptitude Score</th>\n",
       "      <th>Previous Score</th>\n",
       "      <th>Extracurricular activity</th>\n",
       "      <th>Course rating</th>\n",
       "      <th>Education_Num</th>\n",
       "      <th>Income_Level_Num</th>\n",
       "      <th>Difficulty_level_Num</th>\n",
       "    </tr>\n",
       "  </thead>\n",
       "  <tbody>\n",
       "    <tr>\n",
       "      <th>0</th>\n",
       "      <td>0</td>\n",
       "      <td>Acing the Product Management Interview</td>\n",
       "      <td>Advancing Women in Product</td>\n",
       "      <td>71.0</td>\n",
       "      <td>69.0</td>\n",
       "      <td>Yes</td>\n",
       "      <td>5.0</td>\n",
       "      <td>71.0</td>\n",
       "      <td>87.0</td>\n",
       "      <td>97.0</td>\n",
       "    </tr>\n",
       "    <tr>\n",
       "      <th>1</th>\n",
       "      <td>1</td>\n",
       "      <td>The Business of Product Management I</td>\n",
       "      <td>Advancing Women in Product</td>\n",
       "      <td>75.0</td>\n",
       "      <td>65.0</td>\n",
       "      <td>Yes</td>\n",
       "      <td>4.8</td>\n",
       "      <td>57.0</td>\n",
       "      <td>58.0</td>\n",
       "      <td>92.0</td>\n",
       "    </tr>\n",
       "    <tr>\n",
       "      <th>2</th>\n",
       "      <td>2</td>\n",
       "      <td>The Art &amp; Science of Product Management</td>\n",
       "      <td>Advancing Women in Product</td>\n",
       "      <td>62.0</td>\n",
       "      <td>63.0</td>\n",
       "      <td>No</td>\n",
       "      <td>5.0</td>\n",
       "      <td>76.0</td>\n",
       "      <td>71.0</td>\n",
       "      <td>58.0</td>\n",
       "    </tr>\n",
       "    <tr>\n",
       "      <th>3</th>\n",
       "      <td>3</td>\n",
       "      <td>Machine Learning Algorithms: Supervised Learni...</td>\n",
       "      <td>Alberta Machine Intelligence Institute</td>\n",
       "      <td>73.0</td>\n",
       "      <td>66.0</td>\n",
       "      <td>No</td>\n",
       "      <td>4.7</td>\n",
       "      <td>59.0</td>\n",
       "      <td>59.0</td>\n",
       "      <td>75.0</td>\n",
       "    </tr>\n",
       "    <tr>\n",
       "      <th>4</th>\n",
       "      <td>4</td>\n",
       "      <td>Data for Machine Learning</td>\n",
       "      <td>Alberta Machine Intelligence Institute</td>\n",
       "      <td>76.0</td>\n",
       "      <td>65.0</td>\n",
       "      <td>No</td>\n",
       "      <td>4.4</td>\n",
       "      <td>87.0</td>\n",
       "      <td>57.0</td>\n",
       "      <td>57.0</td>\n",
       "    </tr>\n",
       "  </tbody>\n",
       "</table>\n",
       "</div>"
      ],
      "text/plain": [
       "   Unnamed: 0                                        Course Name  \\\n",
       "0           0             Acing the Product Management Interview   \n",
       "1           1               The Business of Product Management I   \n",
       "2           2            The Art & Science of Product Management   \n",
       "3           3  Machine Learning Algorithms: Supervised Learni...   \n",
       "4           4                          Data for Machine Learning   \n",
       "\n",
       "                               University  Aptitude Score  Previous Score  \\\n",
       "0              Advancing Women in Product            71.0            69.0   \n",
       "1              Advancing Women in Product            75.0            65.0   \n",
       "2              Advancing Women in Product            62.0            63.0   \n",
       "3  Alberta Machine Intelligence Institute            73.0            66.0   \n",
       "4  Alberta Machine Intelligence Institute            76.0            65.0   \n",
       "\n",
       "  Extracurricular activity  Course rating  Education_Num  Income_Level_Num  \\\n",
       "0                      Yes            5.0           71.0              87.0   \n",
       "1                      Yes            4.8           57.0              58.0   \n",
       "2                       No            5.0           76.0              71.0   \n",
       "3                       No            4.7           59.0              59.0   \n",
       "4                       No            4.4           87.0              57.0   \n",
       "\n",
       "   Difficulty_level_Num  \n",
       "0                  97.0  \n",
       "1                  92.0  \n",
       "2                  58.0  \n",
       "3                  75.0  \n",
       "4                  57.0  "
      ]
     },
     "execution_count": 31,
     "metadata": {},
     "output_type": "execute_result"
    }
   ],
   "source": [
    "data.head()"
   ]
  },
  {
   "cell_type": "code",
   "execution_count": 32,
   "metadata": {},
   "outputs": [],
   "source": [
    "data=data.drop(columns='Unnamed: 0')"
   ]
  },
  {
   "cell_type": "code",
   "execution_count": 33,
   "metadata": {},
   "outputs": [
    {
     "data": {
      "text/html": [
       "<div>\n",
       "<style scoped>\n",
       "    .dataframe tbody tr th:only-of-type {\n",
       "        vertical-align: middle;\n",
       "    }\n",
       "\n",
       "    .dataframe tbody tr th {\n",
       "        vertical-align: top;\n",
       "    }\n",
       "\n",
       "    .dataframe thead th {\n",
       "        text-align: right;\n",
       "    }\n",
       "</style>\n",
       "<table border=\"1\" class=\"dataframe\">\n",
       "  <thead>\n",
       "    <tr style=\"text-align: right;\">\n",
       "      <th></th>\n",
       "      <th>Course Name</th>\n",
       "      <th>University</th>\n",
       "      <th>Aptitude Score</th>\n",
       "      <th>Previous Score</th>\n",
       "      <th>Extracurricular activity</th>\n",
       "      <th>Course rating</th>\n",
       "      <th>Education_Num</th>\n",
       "      <th>Income_Level_Num</th>\n",
       "      <th>Difficulty_level_Num</th>\n",
       "    </tr>\n",
       "  </thead>\n",
       "  <tbody>\n",
       "    <tr>\n",
       "      <th>0</th>\n",
       "      <td>Acing the Product Management Interview</td>\n",
       "      <td>Advancing Women in Product</td>\n",
       "      <td>71.0</td>\n",
       "      <td>69.0</td>\n",
       "      <td>Yes</td>\n",
       "      <td>5.0</td>\n",
       "      <td>71.0</td>\n",
       "      <td>87.0</td>\n",
       "      <td>97.0</td>\n",
       "    </tr>\n",
       "    <tr>\n",
       "      <th>1</th>\n",
       "      <td>The Business of Product Management I</td>\n",
       "      <td>Advancing Women in Product</td>\n",
       "      <td>75.0</td>\n",
       "      <td>65.0</td>\n",
       "      <td>Yes</td>\n",
       "      <td>4.8</td>\n",
       "      <td>57.0</td>\n",
       "      <td>58.0</td>\n",
       "      <td>92.0</td>\n",
       "    </tr>\n",
       "    <tr>\n",
       "      <th>2</th>\n",
       "      <td>The Art &amp; Science of Product Management</td>\n",
       "      <td>Advancing Women in Product</td>\n",
       "      <td>62.0</td>\n",
       "      <td>63.0</td>\n",
       "      <td>No</td>\n",
       "      <td>5.0</td>\n",
       "      <td>76.0</td>\n",
       "      <td>71.0</td>\n",
       "      <td>58.0</td>\n",
       "    </tr>\n",
       "    <tr>\n",
       "      <th>3</th>\n",
       "      <td>Machine Learning Algorithms: Supervised Learni...</td>\n",
       "      <td>Alberta Machine Intelligence Institute</td>\n",
       "      <td>73.0</td>\n",
       "      <td>66.0</td>\n",
       "      <td>No</td>\n",
       "      <td>4.7</td>\n",
       "      <td>59.0</td>\n",
       "      <td>59.0</td>\n",
       "      <td>75.0</td>\n",
       "    </tr>\n",
       "    <tr>\n",
       "      <th>4</th>\n",
       "      <td>Data for Machine Learning</td>\n",
       "      <td>Alberta Machine Intelligence Institute</td>\n",
       "      <td>76.0</td>\n",
       "      <td>65.0</td>\n",
       "      <td>No</td>\n",
       "      <td>4.4</td>\n",
       "      <td>87.0</td>\n",
       "      <td>57.0</td>\n",
       "      <td>57.0</td>\n",
       "    </tr>\n",
       "  </tbody>\n",
       "</table>\n",
       "</div>"
      ],
      "text/plain": [
       "                                         Course Name  \\\n",
       "0             Acing the Product Management Interview   \n",
       "1               The Business of Product Management I   \n",
       "2            The Art & Science of Product Management   \n",
       "3  Machine Learning Algorithms: Supervised Learni...   \n",
       "4                          Data for Machine Learning   \n",
       "\n",
       "                               University  Aptitude Score  Previous Score  \\\n",
       "0              Advancing Women in Product            71.0            69.0   \n",
       "1              Advancing Women in Product            75.0            65.0   \n",
       "2              Advancing Women in Product            62.0            63.0   \n",
       "3  Alberta Machine Intelligence Institute            73.0            66.0   \n",
       "4  Alberta Machine Intelligence Institute            76.0            65.0   \n",
       "\n",
       "  Extracurricular activity  Course rating  Education_Num  Income_Level_Num  \\\n",
       "0                      Yes            5.0           71.0              87.0   \n",
       "1                      Yes            4.8           57.0              58.0   \n",
       "2                       No            5.0           76.0              71.0   \n",
       "3                       No            4.7           59.0              59.0   \n",
       "4                       No            4.4           87.0              57.0   \n",
       "\n",
       "   Difficulty_level_Num  \n",
       "0                  97.0  \n",
       "1                  92.0  \n",
       "2                  58.0  \n",
       "3                  75.0  \n",
       "4                  57.0  "
      ]
     },
     "execution_count": 33,
     "metadata": {},
     "output_type": "execute_result"
    }
   ],
   "source": [
    "data.head()"
   ]
  },
  {
   "cell_type": "code",
   "execution_count": 34,
   "metadata": {},
   "outputs": [],
   "source": [
    "from sklearn.preprocessing import LabelEncoder, StandardScaler"
   ]
  },
  {
   "cell_type": "code",
   "execution_count": 35,
   "metadata": {},
   "outputs": [],
   "source": [
    "# Convert categorical features into numerical values\n",
    "le_course = LabelEncoder()\n",
    "le_university = LabelEncoder()\n",
    "le_extracurricular = LabelEncoder()"
   ]
  },
  {
   "cell_type": "code",
   "execution_count": 36,
   "metadata": {},
   "outputs": [],
   "source": [
    "data['Course Name'] = le_course.fit_transform(data['Course Name'])\n",
    "data['University'] = le_university.fit_transform(data['University'])\n",
    "data['Extracurricular activity'] = le_extracurricular.fit_transform(data['Extracurricular activity'])"
   ]
  },
  {
   "cell_type": "code",
   "execution_count": 37,
   "metadata": {},
   "outputs": [],
   "source": [
    "# Normalize or standardize numerical features if needed\n",
    "scaler = StandardScaler()\n",
    "data[['Aptitude Score', 'Previous Score', 'Course rating', 'Education_Num', 'Income_Level_Num', 'Difficulty_level_Num']] = scaler.fit_transform(\n",
    "    data[['Aptitude Score', 'Previous Score', 'Course rating', 'Education_Num', 'Income_Level_Num', 'Difficulty_level_Num']]\n",
    ")"
   ]
  },
  {
   "cell_type": "code",
   "execution_count": 38,
   "metadata": {},
   "outputs": [
    {
     "name": "stdout",
     "output_type": "stream",
     "text": [
      "   Course Name  University  Aptitude Score  Previous Score  \\\n",
      "0           80           0       -0.286094        0.427031   \n",
      "1         3031           0       -0.008423       -0.588316   \n",
      "2         3017           0       -0.910852       -1.095989   \n",
      "3         2070           1       -0.147259       -0.334479   \n",
      "4          936           1        0.060994       -0.588316   \n",
      "\n",
      "   Extracurricular activity  Course rating  Education_Num  Income_Level_Num  \\\n",
      "0                         2       1.335872      -0.134090          1.476587   \n",
      "1                         2       0.737006      -1.464182         -1.148771   \n",
      "2                         1       1.335872       0.340943          0.028113   \n",
      "3                         1       0.437573      -1.274169         -1.058242   \n",
      "4                         1      -0.460726       1.386016         -1.239301   \n",
      "\n",
      "   Difficulty_level_Num  \n",
      "0              1.724765  \n",
      "1              1.370071  \n",
      "2             -1.041846  \n",
      "3              0.164113  \n",
      "4             -1.112785  \n"
     ]
    }
   ],
   "source": [
    "# Check the transformed data\n",
    "print(data.head())"
   ]
  },
  {
   "cell_type": "code",
   "execution_count": 39,
   "metadata": {},
   "outputs": [],
   "source": [
    "from sklearn.decomposition import TruncatedSVD\n",
    "\n",
    "# Selecting the numerical features for SVD\n",
    "X = data[['Aptitude Score', 'Previous Score', 'Course rating', 'Education_Num', 'Income_Level_Num', 'Difficulty_level_Num']]"
   ]
  },
  {
   "cell_type": "code",
   "execution_count": 40,
   "metadata": {},
   "outputs": [
    {
     "name": "stdout",
     "output_type": "stream",
     "text": [
      "[[ 0.40665263  0.39156651  1.15173232]\n",
      " [-1.00895631  0.2661219  -1.55013143]\n",
      " [-0.37672422 -2.12468896  0.18255063]\n",
      " ...\n",
      " [ 1.45142884  0.21110518 -0.30114684]\n",
      " [ 0.43471975  0.01389473  0.46715831]\n",
      " [ 1.18024194 -0.01669721  0.63136702]]\n"
     ]
    }
   ],
   "source": [
    "# Apply SVD (n_components is the number of latent factors we want to extract)\n",
    "svd = TruncatedSVD(n_components=3)  # Adjust this based on your data\n",
    "X_svd = svd.fit_transform(X)\n",
    "\n",
    "# Show the reduced dimensionality matrix\n",
    "print(X_svd)"
   ]
  },
  {
   "cell_type": "code",
   "execution_count": 41,
   "metadata": {},
   "outputs": [
    {
     "name": "stdout",
     "output_type": "stream",
     "text": [
      "Predicted Course Rating for Student 0: -0.2810914807742236\n"
     ]
    }
   ],
   "source": [
    "import numpy as np\n",
    "\n",
    "# Reconstruct the matrix from the SVD components\n",
    "X_reconstructed = svd.inverse_transform(X_svd)\n",
    "\n",
    "# For example, if you want to predict the course rating for a specific student, compare the components\n",
    "student_index = 0  # Change this index to select different students\n",
    "predicted_course_rating = X_reconstructed[student_index, 2]  # This would give you the predicted rating for the third course feature\n",
    "print(f\"Predicted Course Rating for Student {student_index}: {predicted_course_rating}\")\n"
   ]
  },
  {
   "cell_type": "code",
   "execution_count": 42,
   "metadata": {},
   "outputs": [],
   "source": [
    "import pandas as pd\n",
    "import numpy as np\n",
    "from sklearn.model_selection import train_test_split\n",
    "from sklearn.preprocessing import LabelEncoder, StandardScaler\n",
    "from sklearn.decomposition import TruncatedSVD\n",
    "from sklearn.metrics import mean_squared_error"
   ]
  },
  {
   "cell_type": "code",
   "execution_count": 43,
   "metadata": {},
   "outputs": [],
   "source": [
    "# Step 1: Load the data\n",
    "data = df"
   ]
  },
  {
   "cell_type": "code",
   "execution_count": 44,
   "metadata": {},
   "outputs": [
    {
     "data": {
      "text/html": [
       "<div>\n",
       "<style scoped>\n",
       "    .dataframe tbody tr th:only-of-type {\n",
       "        vertical-align: middle;\n",
       "    }\n",
       "\n",
       "    .dataframe tbody tr th {\n",
       "        vertical-align: top;\n",
       "    }\n",
       "\n",
       "    .dataframe thead th {\n",
       "        text-align: right;\n",
       "    }\n",
       "</style>\n",
       "<table border=\"1\" class=\"dataframe\">\n",
       "  <thead>\n",
       "    <tr style=\"text-align: right;\">\n",
       "      <th></th>\n",
       "      <th>Course Name</th>\n",
       "      <th>University</th>\n",
       "      <th>Aptitude Score</th>\n",
       "      <th>Previous Score</th>\n",
       "      <th>Extracurricular activity</th>\n",
       "      <th>Course rating</th>\n",
       "      <th>Education_Num</th>\n",
       "      <th>Income_Level_Num</th>\n",
       "      <th>Difficulty_level_Num</th>\n",
       "    </tr>\n",
       "  </thead>\n",
       "  <tbody>\n",
       "    <tr>\n",
       "      <th>0</th>\n",
       "      <td>Acing the Product Management Interview</td>\n",
       "      <td>Advancing Women in Product</td>\n",
       "      <td>71.0</td>\n",
       "      <td>69.0</td>\n",
       "      <td>Yes</td>\n",
       "      <td>5.0</td>\n",
       "      <td>71.0</td>\n",
       "      <td>87.0</td>\n",
       "      <td>97.0</td>\n",
       "    </tr>\n",
       "    <tr>\n",
       "      <th>1</th>\n",
       "      <td>The Business of Product Management I</td>\n",
       "      <td>Advancing Women in Product</td>\n",
       "      <td>75.0</td>\n",
       "      <td>65.0</td>\n",
       "      <td>Yes</td>\n",
       "      <td>4.8</td>\n",
       "      <td>57.0</td>\n",
       "      <td>58.0</td>\n",
       "      <td>92.0</td>\n",
       "    </tr>\n",
       "    <tr>\n",
       "      <th>2</th>\n",
       "      <td>The Art &amp; Science of Product Management</td>\n",
       "      <td>Advancing Women in Product</td>\n",
       "      <td>62.0</td>\n",
       "      <td>63.0</td>\n",
       "      <td>No</td>\n",
       "      <td>5.0</td>\n",
       "      <td>76.0</td>\n",
       "      <td>71.0</td>\n",
       "      <td>58.0</td>\n",
       "    </tr>\n",
       "    <tr>\n",
       "      <th>3</th>\n",
       "      <td>Machine Learning Algorithms: Supervised Learni...</td>\n",
       "      <td>Alberta Machine Intelligence Institute</td>\n",
       "      <td>73.0</td>\n",
       "      <td>66.0</td>\n",
       "      <td>No</td>\n",
       "      <td>4.7</td>\n",
       "      <td>59.0</td>\n",
       "      <td>59.0</td>\n",
       "      <td>75.0</td>\n",
       "    </tr>\n",
       "    <tr>\n",
       "      <th>4</th>\n",
       "      <td>Data for Machine Learning</td>\n",
       "      <td>Alberta Machine Intelligence Institute</td>\n",
       "      <td>76.0</td>\n",
       "      <td>65.0</td>\n",
       "      <td>No</td>\n",
       "      <td>4.4</td>\n",
       "      <td>87.0</td>\n",
       "      <td>57.0</td>\n",
       "      <td>57.0</td>\n",
       "    </tr>\n",
       "  </tbody>\n",
       "</table>\n",
       "</div>"
      ],
      "text/plain": [
       "                                         Course Name  \\\n",
       "0             Acing the Product Management Interview   \n",
       "1               The Business of Product Management I   \n",
       "2            The Art & Science of Product Management   \n",
       "3  Machine Learning Algorithms: Supervised Learni...   \n",
       "4                          Data for Machine Learning   \n",
       "\n",
       "                               University  Aptitude Score  Previous Score  \\\n",
       "0              Advancing Women in Product            71.0            69.0   \n",
       "1              Advancing Women in Product            75.0            65.0   \n",
       "2              Advancing Women in Product            62.0            63.0   \n",
       "3  Alberta Machine Intelligence Institute            73.0            66.0   \n",
       "4  Alberta Machine Intelligence Institute            76.0            65.0   \n",
       "\n",
       "  Extracurricular activity  Course rating  Education_Num  Income_Level_Num  \\\n",
       "0                      Yes            5.0           71.0              87.0   \n",
       "1                      Yes            4.8           57.0              58.0   \n",
       "2                       No            5.0           76.0              71.0   \n",
       "3                       No            4.7           59.0              59.0   \n",
       "4                       No            4.4           87.0              57.0   \n",
       "\n",
       "   Difficulty_level_Num  \n",
       "0                  97.0  \n",
       "1                  92.0  \n",
       "2                  58.0  \n",
       "3                  75.0  \n",
       "4                  57.0  "
      ]
     },
     "execution_count": 44,
     "metadata": {},
     "output_type": "execute_result"
    }
   ],
   "source": [
    "data.head()"
   ]
  },
  {
   "cell_type": "code",
   "execution_count": 45,
   "metadata": {},
   "outputs": [],
   "source": [
    "# Step 2: Preprocessing\n",
    "# Convert numeric columns to appropriate types\n",
    "for col in ['Aptitude Score', 'Income_Level_Num', 'Previous Score', 'Course rating']:\n",
    "    data[col] = pd.to_numeric(data[col], errors='coerce')"
   ]
  },
  {
   "cell_type": "code",
   "execution_count": 46,
   "metadata": {},
   "outputs": [],
   "source": [
    "# Handle missing data\n",
    "data['Education_Num'] = data['Education_Num'].fillna('Unknown')\n"
   ]
  },
  {
   "cell_type": "code",
   "execution_count": 47,
   "metadata": {},
   "outputs": [],
   "source": [
    "# Encode categorical variables\n",
    "label_encoders = {}\n",
    "for col in ['Course Name', 'University']:\n",
    "    le = LabelEncoder()\n",
    "    data[col] = le.fit_transform(data[col])\n",
    "    label_encoders[col] = le"
   ]
  },
  {
   "cell_type": "code",
   "execution_count": 48,
   "metadata": {},
   "outputs": [],
   "source": [
    "# Step 3: Feature Matrix and Target\n",
    "# Features: All except 'Course rating'\n",
    "# Target: 'Course rating'\n",
    "X = data.drop(columns=['Course Name'])\n",
    "y = data['Course Name']"
   ]
  },
  {
   "cell_type": "code",
   "execution_count": 49,
   "metadata": {},
   "outputs": [],
   "source": [
    "# Normalize numerical features\n",
    "scaler = StandardScaler()\n",
    "X[['Aptitude Score', 'Income_Level_Num', 'Previous Score']] = scaler.fit_transform(\n",
    "    X[['Aptitude Score', 'Income_Level_Num', 'Previous Score']]\n",
    ")\n"
   ]
  },
  {
   "cell_type": "code",
   "execution_count": 50,
   "metadata": {},
   "outputs": [],
   "source": [
    "# Step 4: Train-Test Split\n",
    "X_train, X_test, y_train, y_test = train_test_split(X, y, test_size=0.2, random_state=42)"
   ]
  },
  {
   "cell_type": "code",
   "execution_count": 51,
   "metadata": {},
   "outputs": [],
   "source": [
    "from sklearn.preprocessing import LabelEncoder, StandardScaler\n",
    "from sklearn.decomposition import TruncatedSVD\n"
   ]
  },
  {
   "cell_type": "code",
   "execution_count": 52,
   "metadata": {},
   "outputs": [],
   "source": [
    "# Step 1: Identify and encode categorical columns\n",
    "categorical_cols = ['Extracurricular activity']  # Add other non-numeric columns if needed\n",
    "label_encoders = {}\n"
   ]
  },
  {
   "cell_type": "code",
   "execution_count": 53,
   "metadata": {},
   "outputs": [],
   "source": [
    "for col in categorical_cols:\n",
    "    le = LabelEncoder()\n",
    "    X_train[col] = le.fit_transform(X_train[col])\n",
    "    label_encoders[col] = le  # Save encoder for later use"
   ]
  },
  {
   "cell_type": "code",
   "execution_count": 54,
   "metadata": {},
   "outputs": [],
   "source": [
    "# Step 2: Handle missing values\n",
    "X_train = X_train.fillna(0)  # Replace NaN with 0 (or use mean/median as appropriate)"
   ]
  },
  {
   "cell_type": "code",
   "execution_count": 55,
   "metadata": {},
   "outputs": [],
   "source": [
    "X_train = X_train.fillna(X_train.mean())"
   ]
  },
  {
   "cell_type": "code",
   "execution_count": 56,
   "metadata": {},
   "outputs": [],
   "source": [
    "# Step 3: Scale numeric features\n",
    "scaler = StandardScaler()\n"
   ]
  },
  {
   "cell_type": "code",
   "execution_count": 57,
   "metadata": {},
   "outputs": [],
   "source": [
    "\n",
    "X_train_scaled = scaler.fit_transform(X_train)"
   ]
  },
  {
   "cell_type": "code",
   "execution_count": 58,
   "metadata": {},
   "outputs": [],
   "source": [
    "# Step 4: Apply Truncated SVD\n",
    "svd = TruncatedSVD(n_components=10, random_state=42)"
   ]
  }
 ],
 "metadata": {
  "kernelspec": {
   "display_name": "Python 3",
   "language": "python",
   "name": "python3"
  },
  "language_info": {
   "codemirror_mode": {
    "name": "ipython",
    "version": 3
   },
   "file_extension": ".py",
   "mimetype": "text/x-python",
   "name": "python",
   "nbconvert_exporter": "python",
   "pygments_lexer": "ipython3",
   "version": "3.12.7"
  }
 },
 "nbformat": 4,
 "nbformat_minor": 2
}
