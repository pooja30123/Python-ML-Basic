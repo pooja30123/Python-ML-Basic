{
 "cells": [
  {
   "cell_type": "code",
   "execution_count": 3,
   "metadata": {},
   "outputs": [
    {
     "name": "stdout",
     "output_type": "stream",
     "text": [
      "Hello POOJA\n",
      "You have  43 year until retirement\n"
     ]
    }
   ],
   "source": [
    "print (\"Hello POOJA\")\n",
    "age=22\n",
    "print (\"You have \",65-age,\"year until retirement\")"
   ]
  },
  {
   "cell_type": "code",
   "execution_count": 5,
   "metadata": {},
   "outputs": [
    {
     "name": "stdout",
     "output_type": "stream",
     "text": [
      "Hello, POOJA !\n",
      "You are  22 year old\n"
     ]
    }
   ],
   "source": [
    "n=input(\"What is Your Name:\")\n",
    "a=int(input(\"What year you born?\"))\n",
    "print(\"Hello,\",n,\"!\")\n",
    "print (\"You are \",2024-a,\"year old\")"
   ]
  },
  {
   "cell_type": "code",
   "execution_count": 6,
   "metadata": {},
   "outputs": [
    {
     "name": "stdout",
     "output_type": "stream",
     "text": [
      "You are egligible for vote\n"
     ]
    }
   ],
   "source": [
    "age=int(input(\"Enter yor age:\"))\n",
    "if(age>18):\n",
    "    print(\"You are egligible for vote\")"
   ]
  },
  {
   "cell_type": "code",
   "execution_count": null,
   "metadata": {},
   "outputs": [],
   "source": []
  }
 ],
 "metadata": {
  "kernelspec": {
   "display_name": "Python 3",
   "language": "python",
   "name": "python3"
  },
  "language_info": {
   "codemirror_mode": {
    "name": "ipython",
    "version": 3
   },
   "file_extension": ".py",
   "mimetype": "text/x-python",
   "name": "python",
   "nbconvert_exporter": "python",
   "pygments_lexer": "ipython3",
   "version": "3.12.7"
  }
 },
 "nbformat": 4,
 "nbformat_minor": 2
}
