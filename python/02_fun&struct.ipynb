{
 "cells": [
  {
   "cell_type": "markdown",
   "metadata": {},
   "source": [
    "## 1️⃣ Functions in Python"
   ]
  },
  {
   "cell_type": "markdown",
   "metadata": {},
   "source": [
    "### Defining and Calling a Function"
   ]
  },
  {
   "cell_type": "code",
   "execution_count": 1,
   "metadata": {},
   "outputs": [
    {
     "name": "stdout",
     "output_type": "stream",
     "text": [
      "Hello, Pooja!\n"
     ]
    }
   ],
   "source": [
    "def greet():\n",
    "    print(\"Hello, Pooja!\")\n",
    "\n",
    "greet()  # Calling the function"
   ]
  },
  {
   "cell_type": "markdown",
   "metadata": {},
   "source": [
    "### Function with Parameters"
   ]
  },
  {
   "cell_type": "code",
   "execution_count": 2,
   "metadata": {},
   "outputs": [
    {
     "name": "stdout",
     "output_type": "stream",
     "text": [
      "Sum: 8\n"
     ]
    }
   ],
   "source": [
    "def add(a, b):\n",
    "    return a + b\n",
    "\n",
    "result = add(5, 3)\n",
    "print(\"Sum:\", result)  # Output: Sum: 8"
   ]
  },
  {
   "cell_type": "markdown",
   "metadata": {},
   "source": [
    "### Default Parameters\n"
   ]
  },
  {
   "cell_type": "code",
   "execution_count": 3,
   "metadata": {},
   "outputs": [
    {
     "name": "stdout",
     "output_type": "stream",
     "text": [
      "Hello, User\n",
      "Hello, Pooja\n"
     ]
    }
   ],
   "source": [
    "def greet(name=\"User\"):\n",
    "    print(\"Hello,\", name)\n",
    "\n",
    "greet()         # Output: Hello, User\n",
    "greet(\"Pooja\")  # Output: Hello, Pooja"
   ]
  },
  {
   "cell_type": "markdown",
   "metadata": {},
   "source": [
    "## 2️⃣ Lists and Tuples"
   ]
  },
  {
   "cell_type": "markdown",
   "metadata": {},
   "source": [
    "### Lists (Mutable - Can be changed)"
   ]
  },
  {
   "cell_type": "code",
   "execution_count": 4,
   "metadata": {},
   "outputs": [
    {
     "name": "stdout",
     "output_type": "stream",
     "text": [
      "['Apple', 'Banana', 'Cherry', 'Mango']\n"
     ]
    }
   ],
   "source": [
    "fruits = [\"Apple\", \"Banana\", \"Cherry\"]\n",
    "fruits.append(\"Mango\")  # Adding an item\n",
    "print(fruits)  # Output: ['Apple', 'Banana', 'Cherry', 'Mango']"
   ]
  },
  {
   "cell_type": "markdown",
   "metadata": {},
   "source": [
    "### Tuples (Immutable - Cannot be changed)"
   ]
  },
  {
   "cell_type": "code",
   "execution_count": 5,
   "metadata": {},
   "outputs": [
    {
     "name": "stdout",
     "output_type": "stream",
     "text": [
      "Red\n"
     ]
    }
   ],
   "source": [
    "colors = (\"Red\", \"Green\", \"Blue\")\n",
    "print(colors[0])  # Output: Red"
   ]
  },
  {
   "cell_type": "markdown",
   "metadata": {},
   "source": [
    "## 3️⃣ Sets and Dictionaries"
   ]
  },
  {
   "cell_type": "markdown",
   "metadata": {},
   "source": [
    "### Sets (Unique Elements, Unordered)"
   ]
  },
  {
   "cell_type": "code",
   "execution_count": 6,
   "metadata": {},
   "outputs": [
    {
     "name": "stdout",
     "output_type": "stream",
     "text": [
      "{1, 2, 3, 4}\n"
     ]
    }
   ],
   "source": [
    "numbers = {1, 2, 3, 3, 4}\n",
    "print(numbers)  # Output: {1, 2, 3, 4} (removes duplicates)"
   ]
  },
  {
   "cell_type": "markdown",
   "metadata": {},
   "source": [
    "### Dictionaries (Key-Value Pairs)"
   ]
  },
  {
   "cell_type": "code",
   "execution_count": 7,
   "metadata": {},
   "outputs": [
    {
     "name": "stdout",
     "output_type": "stream",
     "text": [
      "Pooja\n",
      "{'name': 'Pooja', 'age': 23}\n"
     ]
    }
   ],
   "source": [
    "student = {\"name\": \"Pooja\", \"age\": 22}\n",
    "print(student[\"name\"])  # Output: Pooja\n",
    "student[\"age\"] = 23  # Updating value\n",
    "print(student)  # {'name': 'Pooja', 'age': 23}"
   ]
  },
  {
   "cell_type": "markdown",
   "metadata": {},
   "source": [
    "### 📝 Quick Questions (Try Answering)"
   ]
  },
  {
   "cell_type": "markdown",
   "metadata": {},
   "source": [
    "1. What is the difference between a list and a tuple?\n",
    "\n",
    "    Ans:List and tuple are both data types in python that can store multiple value of diff data types as well same data types but main difference is that list are mutable means we can change the value of list or modifiy it by addind elt or deleting and all but tuple are immutable means we can not change the value of tuple or modify it by adding elt or deleting and all. list use [] and tuple use (). \n",
    "\n",
    "2. How do you define a function with a default parameter?\n",
    "\n",
    "    Ans: function is defined with default parameter by using = sign after parameter name and value of parameter. for example: \n",
    "\n",
    "        def hello(name=\"Dear\"):\n",
    "\n",
    "            print(\"Hello\",name)\n",
    "        \n",
    "        hello() # prints \"Hello Dear\"\n",
    "\n",
    "        hello(\"pooja\") # prints \"Hello pooja\"\n",
    "\n",
    "3. What is the advantage of using a dictionary?\n",
    "    \n",
    "    Ans:Dictionary is the data type in python that store key value pair . main advantage of dictionary is that it is mutable and it can store multiple value of diff data types dictionary has key and value where key must be immutable type and value can be any of data type for storing key value pair we use : and whole dictionary within {} eg. dict = {1:\"MON\",2:\"TUE\",3:\"WED\"}\n",
    "\n",
    "\n",
    "4. Write a function that takes a list of numbers and returns their sum.\n",
    "\n",
    "    def lst_sum(n):\n",
    "\n",
    "    sum = 0\n",
    "\n",
    "    for i in n:\n",
    "\n",
    "        sum += i\n",
    "\n",
    "    return 'sum of list :',sum\n",
    "\n",
    "    l=[1,2,3,4,5,6]\n",
    "    \n",
    "    print(lst_sum(l))  "
   ]
  },
  {
   "cell_type": "code",
   "execution_count": 11,
   "metadata": {},
   "outputs": [
    {
     "name": "stdout",
     "output_type": "stream",
     "text": [
      "Sum of list: 21\n"
     ]
    }
   ],
   "source": [
    "def lst_sum(n):\n",
    "    sum = 0\n",
    "    for i in n:\n",
    "        sum += i\n",
    "\n",
    "    return sum\n",
    "\n",
    "l=[1,2,3,4,5,6]\n",
    "print(\"Sum of list:\",lst_sum(l))  "
   ]
  },
  {
   "cell_type": "markdown",
   "metadata": {},
   "source": [
    "## 📌 Assignment"
   ]
  },
  {
   "cell_type": "markdown",
   "metadata": {},
   "source": [
    "Task:\n",
    "\n",
    "1. Create a function called analyze_numbers(numbers).\n",
    "\n",
    "2. The function should:\n",
    "    * Take a list of numbers as input.\n",
    "    * Find and return the sum, maximum, and minimum numbers.\n",
    "    \n",
    "3. Call the function with a sample list and display the result."
   ]
  },
  {
   "cell_type": "code",
   "execution_count": 2,
   "metadata": {},
   "outputs": [
    {
     "name": "stdout",
     "output_type": "stream",
     "text": [
      "Enter 5 values:\n",
      "Sum of the numbers: 15\n",
      "Maximum number: 5\n",
      "Minimum number: 1\n"
     ]
    }
   ],
   "source": [
    "def analyze_number(n):\n",
    "    s = sum(n)\n",
    "    mx = max(n)\n",
    "    mn = min(n)\n",
    "    return s, mx, mn\n",
    "\n",
    "\n",
    "a = int(input(\"Enter no:\"))\n",
    "b=[]\n",
    "print(f\"Enter {a} values:\")\n",
    "for i in range(a):\n",
    "    c=int(input())\n",
    "    b.append(c)\n",
    "\n",
    "b_sum,b_max,b_min = analyze_number(b)\n",
    "\n",
    "print(f\"Sum of the numbers: {b_sum}\")\n",
    "print(f\"Maximum number: {b_max}\")\n",
    "print(f\"Minimum number: {b_min}\")"
   ]
  },
  {
   "cell_type": "code",
   "execution_count": null,
   "metadata": {},
   "outputs": [],
   "source": []
  }
 ],
 "metadata": {
  "kernelspec": {
   "display_name": "Python 3",
   "language": "python",
   "name": "python3"
  },
  "language_info": {
   "codemirror_mode": {
    "name": "ipython",
    "version": 3
   },
   "file_extension": ".py",
   "mimetype": "text/x-python",
   "name": "python",
   "nbconvert_exporter": "python",
   "pygments_lexer": "ipython3",
   "version": "3.12.7"
  }
 },
 "nbformat": 4,
 "nbformat_minor": 2
}
