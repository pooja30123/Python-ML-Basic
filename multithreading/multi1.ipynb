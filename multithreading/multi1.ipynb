{
 "cells": [
  {
   "cell_type": "code",
   "execution_count": 1,
   "metadata": {},
   "outputs": [],
   "source": [
    "import threading"
   ]
  },
  {
   "cell_type": "code",
   "execution_count": 2,
   "metadata": {},
   "outputs": [],
   "source": [
    "def test(id):\n",
    "    print(\"program start %d\"% id)"
   ]
  },
  {
   "cell_type": "code",
   "execution_count": 3,
   "metadata": {},
   "outputs": [
    {
     "name": "stdout",
     "output_type": "stream",
     "text": [
      "program start 45\n"
     ]
    }
   ],
   "source": [
    "test(45)"
   ]
  },
  {
   "cell_type": "code",
   "execution_count": 4,
   "metadata": {},
   "outputs": [],
   "source": [
    "thread=[threading.Thread(target=test , args=(i,) ) for i in range(10)]"
   ]
  },
  {
   "cell_type": "code",
   "execution_count": 5,
   "metadata": {},
   "outputs": [
    {
     "name": "stdout",
     "output_type": "stream",
     "text": [
      "program start 0\n",
      "program start 1\n",
      "program start 2\n",
      "program start 3\n",
      "program start 4\n",
      "program start 5\n",
      "program start 6\n",
      "program start 7\n",
      "program start 8\n",
      "program start 9\n"
     ]
    }
   ],
   "source": [
    "for t in thread :\n",
    "    t.start()"
   ]
  },
  {
   "cell_type": "code",
   "execution_count": 6,
   "metadata": {},
   "outputs": [
    {
     "data": {
      "text/plain": [
       "[0, 1, 2, 3, 4, 5, 6, 7, 8, 9]"
      ]
     },
     "execution_count": 6,
     "metadata": {},
     "output_type": "execute_result"
    }
   ],
   "source": [
    "list(range(10))"
   ]
  },
  {
   "cell_type": "code",
   "execution_count": 7,
   "metadata": {},
   "outputs": [
    {
     "data": {
      "text/plain": [
       "[<Thread(Thread-5 (test), stopped 2652)>,\n",
       " <Thread(Thread-6 (test), stopped 13724)>,\n",
       " <Thread(Thread-7 (test), stopped 5400)>,\n",
       " <Thread(Thread-8 (test), stopped 18128)>,\n",
       " <Thread(Thread-9 (test), stopped 19072)>,\n",
       " <Thread(Thread-10 (test), stopped 4952)>,\n",
       " <Thread(Thread-11 (test), stopped 21300)>,\n",
       " <Thread(Thread-12 (test), stopped 20308)>,\n",
       " <Thread(Thread-13 (test), stopped 4188)>,\n",
       " <Thread(Thread-14 (test), stopped 16404)>]"
      ]
     },
     "execution_count": 7,
     "metadata": {},
     "output_type": "execute_result"
    }
   ],
   "source": [
    "thread"
   ]
  },
  {
   "cell_type": "code",
   "execution_count": 8,
   "metadata": {},
   "outputs": [
    {
     "data": {
      "text/plain": [
       "1270527759872"
      ]
     },
     "execution_count": 8,
     "metadata": {},
     "output_type": "execute_result"
    }
   ],
   "source": [
    "id(thread)"
   ]
  },
  {
   "cell_type": "code",
   "execution_count": 9,
   "metadata": {},
   "outputs": [],
   "source": [
    "import threading\n",
    "import urllib.request\n",
    "\n",
    "def file_download(url, filename):\n",
    "    urllib.request.urlretrieve(url,filename)"
   ]
  },
  {
   "cell_type": "code",
   "execution_count": 10,
   "metadata": {},
   "outputs": [],
   "source": [
    "file_download(\"https://github.com/apostrophecms/random-words\",\"test.txt\")"
   ]
  },
  {
   "cell_type": "code",
   "execution_count": 11,
   "metadata": {},
   "outputs": [],
   "source": [
    "url_list = [\"https://github.com/apostrophecms/random-words\",\"https://www.npmjs.com/package/random-link\"]"
   ]
  },
  {
   "cell_type": "code",
   "execution_count": 12,
   "metadata": {},
   "outputs": [],
   "source": [
    "file_name_list = ['data1.txt' , 'data2.txt']"
   ]
  },
  {
   "cell_type": "code",
   "execution_count": 13,
   "metadata": {},
   "outputs": [],
   "source": [
    "ther = [threading.Thread(target = file_download , args = (url_list[i] , file_name_list[i]) ) for i in range(len(url_list)) ]"
   ]
  },
  {
   "cell_type": "code",
   "execution_count": 14,
   "metadata": {},
   "outputs": [
    {
     "data": {
      "text/plain": [
       "[<Thread(Thread-15 (file_download), initial)>,\n",
       " <Thread(Thread-16 (file_download), initial)>]"
      ]
     },
     "execution_count": 14,
     "metadata": {},
     "output_type": "execute_result"
    }
   ],
   "source": [
    "ther"
   ]
  },
  {
   "cell_type": "code",
   "execution_count": 15,
   "metadata": {},
   "outputs": [],
   "source": [
    "for t in ther:\n",
    "    t.start()"
   ]
  },
  {
   "cell_type": "code",
   "execution_count": 16,
   "metadata": {},
   "outputs": [
    {
     "data": {
      "text/plain": [
       "[<Thread(Thread-15 (file_download), stopped 4336)>,\n",
       " <Thread(Thread-16 (file_download), stopped 18040)>]"
      ]
     },
     "execution_count": 16,
     "metadata": {},
     "output_type": "execute_result"
    }
   ],
   "source": [
    "ther"
   ]
  },
  {
   "cell_type": "code",
   "execution_count": 17,
   "metadata": {},
   "outputs": [],
   "source": [
    "import time"
   ]
  },
  {
   "cell_type": "code",
   "execution_count": 18,
   "metadata": {},
   "outputs": [],
   "source": [
    "def test1(id) :\n",
    "    for i in range(10) :\n",
    "        print(\"test1 %d printing %d %s\" %(id,i,time.ctime()))\n",
    "        time.sleep(1)"
   ]
  },
  {
   "cell_type": "code",
   "execution_count": 19,
   "metadata": {},
   "outputs": [
    {
     "name": "stdout",
     "output_type": "stream",
     "text": [
      "test1 0 printing 0 Tue Jan 30 00:33:22 2024\n",
      "test1 0 printing 1 Tue Jan 30 00:33:23 2024\n",
      "test1 0 printing 2 Tue Jan 30 00:33:24 2024\n",
      "test1 0 printing 3 Tue Jan 30 00:33:25 2024\n",
      "test1 0 printing 4 Tue Jan 30 00:33:26 2024\n",
      "test1 0 printing 5 Tue Jan 30 00:33:27 2024\n",
      "test1 0 printing 6 Tue Jan 30 00:33:28 2024\n",
      "test1 0 printing 7 Tue Jan 30 00:33:29 2024\n",
      "test1 0 printing 8 Tue Jan 30 00:33:30 2024\n",
      "test1 0 printing 9 Tue Jan 30 00:33:31 2024\n"
     ]
    }
   ],
   "source": [
    "test1(0)"
   ]
  },
  {
   "cell_type": "code",
   "execution_count": 20,
   "metadata": {},
   "outputs": [],
   "source": [
    "thread1 = [threading.Thread(target=test1 , args = (i,)) for i in range(3) ]"
   ]
  },
  {
   "cell_type": "code",
   "execution_count": 21,
   "metadata": {},
   "outputs": [
    {
     "name": "stdout",
     "output_type": "stream",
     "text": [
      "test1 0 printing 0 Tue Jan 30 00:33:51 2024\n",
      "test1 1 printing 0 Tue Jan 30 00:33:51 2024\n",
      "test1 2 printing 0 Tue Jan 30 00:33:51 2024\n"
     ]
    },
    {
     "name": "stdout",
     "output_type": "stream",
     "text": [
      "test1 1 printing 1 Tue Jan 30 00:33:52 2024\n",
      "test1 0 printing 1 Tue Jan 30 00:33:52 2024\n",
      "test1 2 printing 1 Tue Jan 30 00:33:52 2024\n",
      "test1 2 printing 2 Tue Jan 30 00:33:53 2024\n",
      "test1 0 printing 2 Tue Jan 30 00:33:53 2024\n",
      "test1 1 printing 2 Tue Jan 30 00:33:53 2024\n",
      "test1 0 printing 3 Tue Jan 30 00:33:54 2024test1 2 printing 3 Tue Jan 30 00:33:54 2024\n",
      "\n",
      "test1 1 printing 3 Tue Jan 30 00:33:54 2024\n",
      "test1 0 printing 4 Tue Jan 30 00:33:55 2024test1 2 printing 4 Tue Jan 30 00:33:55 2024\n",
      "\n",
      "test1 1 printing 4 Tue Jan 30 00:33:55 2024\n",
      "test1 2 printing 5 Tue Jan 30 00:33:56 2024test1 0 printing 5 Tue Jan 30 00:33:56 2024\n",
      "test1 1 printing 5 Tue Jan 30 00:33:56 2024\n",
      "\n",
      "test1 0 printing 6 Tue Jan 30 00:33:57 2024\n",
      "test1 2 printing 6 Tue Jan 30 00:33:57 2024\n",
      "test1 1 printing 6 Tue Jan 30 00:33:57 2024\n",
      "test1 0 printing 7 Tue Jan 30 00:33:58 2024\n",
      "test1 1 printing 7 Tue Jan 30 00:33:58 2024\n",
      "test1 2 printing 7 Tue Jan 30 00:33:58 2024\n",
      "test1 0 printing 8 Tue Jan 30 00:33:59 2024\n",
      "test1 1 printing 8 Tue Jan 30 00:33:59 2024\n",
      "test1 2 printing 8 Tue Jan 30 00:33:59 2024\n",
      "test1 2 printing 9 Tue Jan 30 00:34:00 2024test1 1 printing 9 Tue Jan 30 00:34:00 2024\n",
      "test1 0 printing 9 Tue Jan 30 00:34:00 2024\n",
      "\n"
     ]
    }
   ],
   "source": [
    "for t in thread1 :\n",
    "    t.start()"
   ]
  },
  {
   "cell_type": "code",
   "execution_count": 22,
   "metadata": {},
   "outputs": [],
   "source": [
    "shared_var = 0\n",
    "lock_var = threading.Lock()"
   ]
  },
  {
   "cell_type": "code",
   "execution_count": 23,
   "metadata": {},
   "outputs": [
    {
     "name": "stdout",
     "output_type": "stream",
     "text": [
      "test2  is 0 has increases the shared variable by 1 \n",
      "test2  is 1 has increases the shared variable by 2 \n",
      "test2  is 2 has increases the shared variable by 3 \n"
     ]
    }
   ],
   "source": [
    "shared_var = 0\n",
    "lock_var = threading.Lock()\n",
    "def test2(id) : \n",
    "    global shared_var\n",
    "    with lock_var :\n",
    "        shared_var = shared_var + 1\n",
    "        print(\"test2  is %d has increases the shared variable by %d \" % (id , shared_var))\n",
    "ther3 = [threading.Thread(target = test2 , args = (i,)) for i in range(3)]\n",
    "for t in ther3 :\n",
    "    t.start()"
   ]
  },
  {
   "cell_type": "code",
   "execution_count": 24,
   "metadata": {},
   "outputs": [],
   "source": [
    "import threading"
   ]
  },
  {
   "cell_type": "code",
   "execution_count": 25,
   "metadata": {},
   "outputs": [],
   "source": [
    "def add(a,b) :\n",
    "    print(\"the addition of %d and %d is %d\" % (a,b,a+b) )"
   ]
  },
  {
   "cell_type": "code",
   "execution_count": 26,
   "metadata": {},
   "outputs": [
    {
     "name": "stdout",
     "output_type": "stream",
     "text": [
      "the addition of 55 and 20 is 75\n"
     ]
    }
   ],
   "source": [
    "add(55,20)"
   ]
  },
  {
   "cell_type": "code",
   "execution_count": 27,
   "metadata": {},
   "outputs": [],
   "source": [
    "a_list = [2,8,6,9,7,3,5]"
   ]
  },
  {
   "cell_type": "code",
   "execution_count": 28,
   "metadata": {},
   "outputs": [],
   "source": [
    "b_list = [8,8,6,9,2,5,7]"
   ]
  },
  {
   "cell_type": "code",
   "execution_count": 29,
   "metadata": {},
   "outputs": [],
   "source": [
    "thread=[threading.Thread(target=add , args=(a_list[i] , b_list[i]) ) for i in range(7)]"
   ]
  },
  {
   "cell_type": "code",
   "execution_count": 30,
   "metadata": {},
   "outputs": [
    {
     "name": "stdout",
     "output_type": "stream",
     "text": [
      "the addition of 2 and 8 is 10the addition of 8 and 8 is 16\n",
      "\n",
      "the addition of 6 and 6 is 12\n",
      "the addition of 9 and 9 is 18\n",
      "the addition of 7 and 2 is 9\n",
      "the addition of 3 and 5 is 8\n",
      "the addition of 5 and 7 is 12\n"
     ]
    }
   ],
   "source": [
    "for t in thread:\n",
    "    t.start()"
   ]
  },
  {
   "cell_type": "code",
   "execution_count": null,
   "metadata": {},
   "outputs": [],
   "source": []
  }
 ],
 "metadata": {
  "kernelspec": {
   "display_name": "Python 3",
   "language": "python",
   "name": "python3"
  },
  "language_info": {
   "codemirror_mode": {
    "name": "ipython",
    "version": 3
   },
   "file_extension": ".py",
   "mimetype": "text/x-python",
   "name": "python",
   "nbconvert_exporter": "python",
   "pygments_lexer": "ipython3",
   "version": "3.11.9"
  }
 },
 "nbformat": 4,
 "nbformat_minor": 2
}
