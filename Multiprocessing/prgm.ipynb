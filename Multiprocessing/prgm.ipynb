{
 "cells": [
  {
   "cell_type": "code",
   "execution_count": 1,
   "metadata": {},
   "outputs": [],
   "source": [
    "import multiprocessing"
   ]
  },
  {
   "cell_type": "code",
   "execution_count": 2,
   "metadata": {},
   "outputs": [
    {
     "name": "stdout",
     "output_type": "stream",
     "text": [
      "This my main Program\n"
     ]
    }
   ],
   "source": [
    "def test():\n",
    "    print(\"This is my Multiprocessing Program\")\n",
    "    \n",
    "if __name__ == '__main__':\n",
    "    m=multiprocessing.Process(target=test)\n",
    "    print(\"This my main Program\")\n",
    "    m.start()\n",
    "    m.join()"
   ]
  },
  {
   "cell_type": "code",
   "execution_count": 3,
   "metadata": {},
   "outputs": [
    {
     "name": "stdout",
     "output_type": "stream",
     "text": [
      "This is my Multiprocessing Program\n"
     ]
    }
   ],
   "source": [
    "test()"
   ]
  },
  {
   "cell_type": "code",
   "execution_count": 7,
   "metadata": {},
   "outputs": [],
   "source": [
    "def square(n):\n",
    "    return n*n\n",
    "\n",
    "if __name__ == '__main__':\n",
    "    with multiprocessing.Pool(processes=4) as pool:\n",
    "        out = pool.map(square,[1,2,3,4,5,6,7,8,9,10])\n",
    "        print(out)\n",
    "    "
   ]
  },
  {
   "cell_type": "code",
   "execution_count": 1,
   "metadata": {},
   "outputs": [
    {
     "name": "stdout",
     "output_type": "stream",
     "text": [
      "The main Program started.\n",
      "Program Started\n",
      "program finsed\n",
      "The main program Finished.\n"
     ]
    }
   ],
   "source": [
    "import multiprocessing\n",
    "import time\n",
    "\n",
    "def test():\n",
    "    print(\"Program Started\")\n",
    "    time.sleep(2)\n",
    "    print(\"program finsed\")\n",
    "\n",
    "if __name__ == \"__main__\" :\n",
    "    print(\"The main Program started.\")\n",
    "    m = multiprocessing.Process(target = test())\n",
    "    m.start()\n",
    "    m.join()\n",
    "    print(\"The main program Finished.\")\n",
    "    "
   ]
  },
  {
   "cell_type": "code",
   "execution_count": 2,
   "metadata": {},
   "outputs": [],
   "source": [
    "import multiprocessing\n",
    "def sender(conn , msg):\n",
    "    for i in msg:\n",
    "        conn.send(i)\n",
    "    conn.close()\n",
    "\n",
    "def receive(conn):\n",
    "    while True:\n",
    "        try:\n",
    "            msg = conn.recv()\n",
    "        except Exception as e:\n",
    "            print(e)\n",
    "            break\n",
    "        print(msg)\n",
    "        \n",
    "if __name__ == '__main__':\n",
    "    msg = [\"hey shanti\",\"ky kar rhi h tu\",\"mai kab se msg kar rhi\",\"kaha gayab h tu\"]\n",
    "    parent_con , child_con = multiprocessing.Pipe()\n",
    "    m1 = multiprocessing.Process(target = sender , args=(child_con  ,msg))\n",
    "    m2 = multiprocessing.Process(target = receive , args=(parent_con ,))\n",
    "    m1.start()\n",
    "    m2.start()\n",
    "    m1.join()\n",
    "    child_con.close()\n",
    "    m2.join()\n",
    "    parent_con.close()\n",
    "    "
   ]
  },
  {
   "cell_type": "code",
   "execution_count": null,
   "metadata": {},
   "outputs": [],
   "source": []
  }
 ],
 "metadata": {
  "kernelspec": {
   "display_name": "Python 3",
   "language": "python",
   "name": "python3"
  },
  "language_info": {
   "codemirror_mode": {
    "name": "ipython",
    "version": 3
   },
   "file_extension": ".py",
   "mimetype": "text/x-python",
   "name": "python",
   "nbconvert_exporter": "python",
   "pygments_lexer": "ipython3",
   "version": "3.12.7"
  }
 },
 "nbformat": 4,
 "nbformat_minor": 2
}
